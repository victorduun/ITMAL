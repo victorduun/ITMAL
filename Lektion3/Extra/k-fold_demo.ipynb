{
 "cells": [
  {
   "cell_type": "markdown",
   "metadata": {},
   "source": [
    "# ITMAL L03\n",
    "\n",
    "## K-fold demo\n",
    "\n",
    "Code original from\n",
    "\n",
    "* https://scikit-learn.org/stable/modules/generated/sklearn.model_selection.KFold.html?highlight=k%20fold#sklearn.model_selection.KFold"
   ]
  },
  {
   "cell_type": "code",
   "execution_count": null,
   "metadata": {},
   "outputs": [],
   "source": [
    "import numpy as np\n",
    "from sklearn.model_selection import KFold\n",
    "from libitmal import utils as itmalutils\n",
    "\n",
    "X = np.array([[1, 2], [3, 4], [5, 6], [7, 8], [-1, -2]])\n",
    "y = np.array([1, 2, 3, 4, 5])\n",
    "\n",
    "kf = KFold(n_splits=2) # shuffle=True, random_state=42)\n",
    "\n",
    "print(f\"kf={kf}\")\n",
    "print(f\"splits on X={kf.get_n_splits(X)}\\n\")\n",
    "\n",
    "def PrintXy(X, y, msg=\"\"):\n",
    "    assert X.ndim==2\n",
    "    assert y.ndim==1\n",
    "    assert X.shape[0]==y.shape[0]\n",
    "    itmalutils.PrintMatrix(X, f\"  X{msg}=\")\n",
    "    itmalutils.PrintMatrix(y, f\"  y{msg}=\")\n",
    "\n",
    "PrintXy(X, y)\n",
    "print(\"\\nOK\")"
   ]
  },
  {
   "cell_type": "code",
   "execution_count": null,
   "metadata": {},
   "outputs": [],
   "source": [
    "n=0\n",
    "for train_index, val_index in kf.split(X):\n",
    "    n += 1\n",
    "    print(f\"\\nITERATION:  n={n}\\n\")\n",
    "    print(f\"  TRAIN    indexes: {train_index}\\n  VALIDATE indexes: {val_index}\\n\")\n",
    " \n",
    "    #print(f\"type(train_index)={type(train_index)},  train_index.dtype={train_index.dtype}\")\n",
    "    \n",
    "    X_train, X_val = X[train_index], X[val_index]\n",
    "    y_train, y_val = y[train_index], y[val_index]\n",
    "    \n",
    "    PrintXy(X_train, y_train, \"_train\")\n",
    "    print()\n",
    "    PrintXy(X_val  , y_val,   \"_val  \")"
   ]
  }
 ],
 "metadata": {
  "kernelspec": {
   "display_name": "Python 3",
   "language": "python",
   "name": "python3"
  },
  "language_info": {
   "codemirror_mode": {
    "name": "ipython",
    "version": 3
   },
   "file_extension": ".py",
   "mimetype": "text/x-python",
   "name": "python",
   "nbconvert_exporter": "python",
   "pygments_lexer": "ipython3",
   "version": "3.8.5"
  },
  "varInspector": {
   "cols": {
    "lenName": 16,
    "lenType": 16,
    "lenVar": 40
   },
   "kernels_config": {
    "python": {
     "delete_cmd_postfix": "",
     "delete_cmd_prefix": "del ",
     "library": "var_list.py",
     "varRefreshCmd": "print(var_dic_list())"
    },
    "r": {
     "delete_cmd_postfix": ") ",
     "delete_cmd_prefix": "rm(",
     "library": "var_list.r",
     "varRefreshCmd": "cat(var_dic_list()) "
    }
   },
   "types_to_exclude": [
    "module",
    "function",
    "builtin_function_or_method",
    "instance",
    "_Feature"
   ],
   "window_display": true
  }
 },
 "nbformat": 4,
 "nbformat_minor": 4
}
