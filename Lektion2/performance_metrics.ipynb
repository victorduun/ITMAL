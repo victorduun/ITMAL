{
 "cells": [
  {
   "cell_type": "markdown",
   "metadata": {},
   "source": [
    "# ITMAL Exercise\n",
    "\n",
    "\n",
    "REVISIONS||\n",
    "---------||\n",
    "2018-1219| CEF, initial.                  \n",
    "2018-0207| CEF, updated.           \n",
    "2018-0207| CEF, rewritten accuracy paradox section. \n",
    "2018-0305| CEF, updated with SHN comments.\n",
    "2019-0901| CEF, updated for ITMAL v2.\n",
    "2019-0904| CEF, updated for print-f and added conclusion Q.\n",
    "2020-0125| CEF, F20 ITMAL update.\n",
    "2020-0203| CEF, minor text fixes.\n",
    "2020-0204| CEF, updated page numbers to HOMLv2.\n",
    "2020-0217| CEF, added implementation note on denominator=0.\n",
    "\n",
    "## Performance Metrics\n",
    "\n",
    "There are a number of frequently uses metrics in ML, namely accuracy, precision, recall and the $F_1$ score. All are called _metrics_ (though they are not true norms, like ${\\cal L}_2$ or ${\\cal L}_1$ we saw last time).\n",
    "\n",
    "Maybe performance _score_ would be a better name than performance metric, at least for the accuracy, precision, recall we will be looking at---emphasising the conceptual distinction between the  _score-function_ and _cost(/loss/error/objective)-function_ (the later is typically a true distance/norm function).  \n",
    "\n",
    "You can find a lot of details on say precision and recall in Wikipedia\n",
    "\n",
    ">  https://en.wikipedia.org/wiki/Precision_and_recall\n",
    "\n",
    "\n",
    "### Nomenclature\n",
    "\n",
    "| NAME | SYMBOL | ALIAS |\n",
    "| :---: | :---: | :---: |\n",
    "|true positives | $TP$ | |\n",
    "|true negatives | $TN$ | |\n",
    "|false positives| $FP$ | type I error| \n",
    "|false negatives| $FN$ | type II error |\n",
    "\n",
    "and $N = N_P + N_N$ being the total number of samples and the number of positive and negative samples\n",
    "respectively.\n",
    "\n",
    "### Precision\n",
    "\n",
    "$$\n",
    "\\def\\by{\\mathbf{y}}\n",
    "\\def\\ba{\\begin{array}{lll}}\n",
    "\\def\\ea{\\end{array}}\n",
    "\\newcommand{\\rem}[1]{}\n",
    "\\newcommand\\st[1]{_{\\scriptsize #1}}\n",
    "\\newcommand\\myfrac[2]{\\frac{#1\\rule{0pt}{8pt}}{#2\\rule{0pt}{8pt}}} \n",
    "\\ba\n",
    " p &= \\myfrac{TP}{TP + FP}\n",
    "\\ea\n",
    "$$\n",
    "\n",
    "### Recall or Sensitivity\n",
    "\n",
    "$$\n",
    "  \\ba\n",
    "    r &= \\myfrac{TP}{TP + FN}\\\\\n",
    "      &= \\myfrac{TP}{N_P}\n",
    "  \\ea\n",
    "$$\n",
    "\n",
    "### Accuracy\n",
    "\n",
    "$$\n",
    "  \\ba\n",
    "      a &= \\myfrac{TP + TN}{TP + TN + FP + FN}\\\\\n",
    "        &= \\myfrac{TP + TN}{N}\\\\\n",
    "        &= \\myfrac{TP + TN}{N_P~~ + N_N} \n",
    "  \\ea\n",
    "$$\n",
    "\n",
    "#### Accuracy Paradox\n",
    "\n",
    "A static constant model, say $p\\st{cancer}=0$ may have higher accuracy than a real model with predictive power. This is odd!\n",
    "\n",
    "Asymmetric weight could also be associated with the false positive and false negative predictions, yielding either FP of FN much more expensive than the other. Say, it is more expensive not to treat a person with cancer, than treating a person without cancer. \n",
    "\n",
    "### F-score\n",
    "\n",
    "General $\\beta$-harmonic mean of the precision and recall \n",
    "$$\n",
    "    F_\\beta = (1+\\beta^2) \\myfrac{2pr}{\\beta^2 p+r}\\\\\n",
    "$$ \n",
    "that for say $\\beta=2$ or $\\beta=0.5$ shifts or skews the emphasis on the two variables in the equation. Normally only the $\\beta=1$ harmonic mean is used\n",
    "\n",
    "$$\n",
    "  \\ba\n",
    "    F_1 &= \\myfrac{2pr}{p+r}\\\\\n",
    "        &= \\myfrac{2}{1/p + 1/r}\n",
    "  \\ea\n",
    "$$\n",
    "with $F$ typically being synonymous with $F_1$. \n",
    "\n",
    "If needed, find more info on Wikipedia\n",
    "\n",
    "> https://en.wikipedia.org/wiki/F1_score\n",
    "\n",
    "\n",
    "## Confusion Matrix\n",
    "\n",
    "For statistical classification, the confusion matrix or error matrix (or\n",
    "matching matrix in unsupervised learning) is for a two-class problem given by\n",
    "the $2\\times2$ matrix with dimensions 'actual' and 'predicted'\n",
    "\n",
    "$$   \n",
    "{\\bf M}\\st{confusion} = \n",
    "\\begin{array}{l|ll}\n",
    "                           & \\mbox{actual true} & \\mbox{actual false} \\\\ \\hline\n",
    "    \\mbox{predicted true}  & TP & FP \\\\     \n",
    "    \\mbox{predicted false} & FN & TN \n",
    "\\end{array}\n",
    "$$\n",
    "\n",
    "The diagonal, in the square matrix, represent predicted values being the same\n",
    "as the actual values, off-diagonal elements represent erroneous prediction.\n",
    "\n",
    "Also notice, that the layout of this matrix is different of what is given in [HOML], \"Confusion Matrix\", p.91/fig 3-2. This is just a minor issue, since we can always flip/rotate/transpose the matrix (say by flipping the $\\by\\st{true}$ and $\\by\\st{pred}$ arguments). \n",
    "\n",
    "For N-class classification the matrix gives a matrix with $N$ actual\n",
    "classes and $N$ predicted classes\n",
    "\n",
    "$$\n",
    "{\\bf M}\\st{confusion}~~~ =\n",
    "  \\left[\n",
    "  \\begin{array}{llll}\n",
    "       c_{11} & c_{12} & \\cdots & c_{1n} \\\\ \n",
    "       c_{21} & c_{22} & \\cdots & c_{2n} \\\\\n",
    "       \\vdots & \\vdots & \\ddots & \\vdots \\\\\n",
    "       c_{n1} & c_{n2} & \\cdots & c_{nn} \\\\ \n",
    "  \\end{array}\n",
    "  \\right]\n",
    "$$\n",
    "with say element $c_{21}$ being the number of actual classes '1' being predicted (erroneously) as class '2'.\n",
    "\n",
    "### Nomenclature for the Confusion Matrix\n",
    "\n",
    "The naming of the elements in the confusion matrix can be rather exotic, like _false omission rate_ (see the figure below), but we won't get to such detail here...let us stick with TP, TN, FP, FN and $F_1$!\n",
    "\n",
    "<img src=\"https://itundervisning.ase.au.dk/F20_itmal/L02/Figs/performance_metrics.jpg\" style=\"width:900px\">\n",
    "\n",
    "If you need more info on the confusion matrix:\n",
    "\n",
    ">  https://en.wikipedia.org/wiki/Confusion_matrix\n",
    "\n",
    "#### Qa Implement the Accuracy function and test it on the MNIST data.\n",
    "\n",
    "We now follow the convention in Scikit-learn, that a score funtion takes the arguments `y_true` and then `y_pred`\n",
    "\n",
    "```\n",
    "    sklearn.metrics.accuracy_score(y_true, y_pred, ..)\n",
    "```\n",
    "\n",
    "Implement a general accuracy function `MyAccuracy(y_true, y_pred)`.\n",
    "\n",
    "Reuse your MNIST data loader and test the `MyAccuracy` function  both on your dummy classifier and on the Stochastic Gradient Descent classifier (with setup parameters as in [HOML]).\n",
    "\n",
    "Compare your accuracy score with the acutal value from `sklearn.metrics.accuracy_score()`.\n",
    "\n",
    "(Implementation note: what do you do, if the denominator is zero?)"
   ]
  },
  {
   "cell_type": "code",
   "execution_count": 1,
   "metadata": {},
   "outputs": [],
   "source": [
    "# Load data\n",
    "%matplotlib inline\n",
    "\n",
    "from sklearn.datasets import fetch_openml\n",
    "from libitmal import data_getters\n",
    "\n",
    "X, y = data_getters.MNIST_GetDataSet()"
   ]
  },
  {
   "cell_type": "code",
   "execution_count": 2,
   "metadata": {},
   "outputs": [],
   "source": [
    "#Split data and then make a set for classification of 5's\n",
    "from sklearn.model_selection import train_test_split\n",
    "X_train, X_test, y_train, y_test = train_test_split(\n",
    "    X,\n",
    "    y,\n",
    "    test_size=0.2,\n",
    ")\n",
    "\n",
    "y_train_5 = (y_train == '5')  \n",
    "y_test_5 = (y_test == '5')  "
   ]
  },
  {
   "cell_type": "code",
   "execution_count": 3,
   "metadata": {},
   "outputs": [
    {
     "data": {
      "text/plain": [
       "SGDClassifier(random_state=42)"
      ]
     },
     "execution_count": 3,
     "metadata": {},
     "output_type": "execute_result"
    }
   ],
   "source": [
    "from sklearn.linear_model import SGDClassifier\n",
    "sgd_clf = SGDClassifier(random_state=42)\n",
    "sgd_clf.fit(X_train, y_train_5)"
   ]
  },
  {
   "cell_type": "code",
   "execution_count": 4,
   "metadata": {},
   "outputs": [],
   "source": [
    "from libitmal import classifiers\n",
    "\n",
    "dummy_clf = classifiers.DummyClassifier()\n",
    "dummy_clf.fit(X_train, y_train_5)"
   ]
  },
  {
   "cell_type": "code",
   "execution_count": 5,
   "metadata": {},
   "outputs": [],
   "source": [
    "#Functions for finding #of TP, FP, TN, FN, and accuracy\n",
    "\n",
    "#import numpy as np\n",
    "    \n",
    "#def find_N_TP(y_true, y_pred):\n",
    "#    y_pred_positive = np.where(y_pred == True)\n",
    "#    y_true_positive = np.where(y_true == True)\n",
    "#    print(y_pred_positive)\n",
    "#    print(y_true_positive)\n",
    "#    TP = y_pred_positive and y_true_positive\n",
    "#    TP = TP[0] # The first element of this array contains the indices with true positives\n",
    "#    return len(TP)\n",
    "#    \n",
    "#def find_N_FN(y_true, y_pred):   \n",
    "#    y_pred_negative = np.where(y_pred == False)\n",
    "#    y_true_negative = np.where(y_true == False)\n",
    "#    FN = np.setdiff1d(y_pred_negative, y_true_negative)\n",
    "#    return len(FN)\n",
    "#    \n",
    "#def find_N_FP(y_true, y_pred):  \n",
    "#    y_pred_positive = np.where(y_pred == True)\n",
    "#    y_true_negative = np.where(y_true == False)\n",
    "#    FP = np.setdiff1d(y_pred_positive, y_true_negative)\n",
    "#    return len(FP)\n",
    "#    \n",
    "#def find_N_TN(y_true, y_pred):\n",
    "#    y_pred_negative = np.where(y_pred == False)  \n",
    "#    y_true_negative = np.where(y_true == False)\n",
    "#    print(y_pred_negative)\n",
    "#    print(y_true_negative)\n",
    "#    TN = y_true_negative and y_pred_negative \n",
    "#    TN = TN[0]\n",
    "#    return len(TN)\n",
    "#\n",
    "# def MyAccuracy2(y_true, y_pred):\n",
    "#     TP = find_N_TP(y_true, y_pred)\n",
    "#     FN = find_N_FN(y_true, y_pred)\n",
    "#     FP = find_N_FP(y_true, y_pred)\n",
    "#     TN = find_N_TN(y_true, y_pred)\n",
    "#     print(f\"len_y_true={len(y_true)}\")\n",
    "#     print(f\"len_y_pred={len(y_pred)}\")\n",
    "#     print(f\"TP+FN+FP+TN={TP+FN+FP+TN}\")\n",
    "#     print(f\"TP={TP}, FN={FN}, FP={FP}, TN={TN} \")\n",
    "#     assert ((TP+TN+FP+FN )!= 0), \"Cannot divide by zero\"\n",
    "#     return (TP+TN)/(TP+TN+FP+FN)\n",
    "\n",
    "# This implementation is from stackoverflow\n",
    "# https://stackoverflow.com/questions/31324218/scikit-learn-how-to-obtain-true-positive-true-negative-false-positive-and-fal\n",
    "def FindTPFPTNFN(y_true, y_pred):\n",
    "    TP = 0\n",
    "    FP = 0\n",
    "    TN = 0\n",
    "    FN = 0\n",
    "    for i in range(len(y_pred)): \n",
    "        if y_true[i]==y_pred[i]==True:\n",
    "            TP += 1\n",
    "        if y_pred[i]==1 and y_true[i]!=y_pred[i]:\n",
    "            FP += 1\n",
    "        if y_true[i]==y_pred[i]==False:\n",
    "            TN += 1\n",
    "        if y_pred[i]==0 and y_true[i]!=y_pred[i]:\n",
    "            FN += 1\n",
    "    return TP, FP, TN, FN\n",
    "    \n",
    "    \n",
    "def MyAccuracy(y_true, y_pred):\n",
    "    TP, FP, TN, FN = FindTPFPTNFN(y_true,y_pred)\n",
    "    assert ((TP+TN+FP+FN )!= 0), \"Cannot divide by zero\"\n",
    "    return (TP+TN)/(TP+TN+FP+FN)\n",
    "    "
   ]
  },
  {
   "cell_type": "code",
   "execution_count": 6,
   "metadata": {
    "scrolled": true
   },
   "outputs": [
    {
     "name": "stdout",
     "output_type": "stream",
     "text": [
      "Test accuracy for SGD\n",
      "my a          =0.9325714285714286\n",
      "scikit-learn a=0.9325714285714286\n",
      "Accuracy is the same for both functions\n",
      "Test accuracy for Dummy\n",
      "my a          =0.9097857142857143\n",
      "scikit-learn a=0.9097857142857143\n",
      "Accuracy is the same for both functions\n"
     ]
    }
   ],
   "source": [
    "# TEST FUNCTION: example of a comperator, using Scikit-learn accuracy_score\n",
    "from sklearn.metrics import accuracy_score\n",
    "from math import fabs\n",
    "def TestAccuracy(y_true, y_pred):\n",
    "    a0=MyAccuracy(y_true, y_pred)\n",
    "    a1=accuracy_score(y_true, y_pred)\n",
    "\n",
    "    print(f\"my a          ={a0}\")\n",
    "    print(f\"scikit-learn a={a1}\")\n",
    "\n",
    "    if fabs(a1-a0 <= 1e-9):\n",
    "        print(\"Accuracy is the same for both functions\")\n",
    "    else:\n",
    "        print(\"Accuracy is different for the functions\")\n",
    "\n",
    "y_pred_sgd = sgd_clf.predict(X_test)\n",
    "y_pred_dummy = dummy_clf.predict(X_test)\n",
    "\n",
    "print(\"Test accuracy for SGD\")    \n",
    "TestAccuracy(y_test_5, y_pred_sgd)\n",
    "print(\"Test accuracy for Dummy\")    \n",
    "TestAccuracy(y_test_5, y_pred_dummy)"
   ]
  },
  {
   "cell_type": "markdown",
   "metadata": {},
   "source": [
    "#### Qb Implement Precision, Recall and $F_1$-score and test it on the MNIST data for both the SGD and Dummy classifier models\n",
    "\n",
    "Now, implement the `MyPrecision`, `MyRecall` and `MyF1Score` functions, again taking MNIST as input, using the SGD and the Dummy classifiers and make some test vectors to compare to the functions found in Scikit-learn...\n",
    "\n",
    "(Implementation note: as before, what do you do, if the denominator is zero?)"
   ]
  },
  {
   "cell_type": "code",
   "execution_count": 7,
   "metadata": {},
   "outputs": [],
   "source": [
    "\n",
    "def MyPrecision(y_true, y_pred):\n",
    "    TP, FP, TN, FN = FindTPFPTNFN(y_true,y_pred)\n",
    "    if TP+FP == 0:\n",
    "        return 0\n",
    "    else:\n",
    "        return TP/(TP+FP)\n",
    "\n",
    "def MyRecall(y_true, y_pred):\n",
    "    TP, FP, TN, FN = FindTPFPTNFN(y_true,y_pred)\n",
    "    if TP+FN == 0:\n",
    "        return 0\n",
    "    else:\n",
    "        return TP/(TP+FN)\n",
    "    \n",
    "def MyF1Score(y_true, y_pred):\n",
    "    TP, FP, TN, FN = FindTPFPTNFN(y_true,y_pred)\n",
    "    assert ((TP+TN+FP+FN )!= 0), \"Cannot divide by zero\"\n",
    "    return TP/(TP+FN)\n"
   ]
  },
  {
   "cell_type": "code",
   "execution_count": 8,
   "metadata": {},
   "outputs": [
    {
     "name": "stdout",
     "output_type": "stream",
     "text": [
      "========TEST PREDICTION============\n",
      "Test precision for SGD\n",
      "my p          =0.581836839404823\n",
      "scikit-learn p=0.581836839404823\n",
      "Precision is the same for both functions\n",
      "Test precision for Dummy\n"
     ]
    },
    {
     "name": "stderr",
     "output_type": "stream",
     "text": [
      "C:\\ProgramData\\Anaconda3\\lib\\site-packages\\sklearn\\metrics\\_classification.py:1221: UndefinedMetricWarning: Precision is ill-defined and being set to 0.0 due to no predicted samples. Use `zero_division` parameter to control this behavior.\n",
      "  _warn_prf(average, modifier, msg_start, len(result))\n"
     ]
    },
    {
     "name": "stdout",
     "output_type": "stream",
     "text": [
      "my p          =0\n",
      "scikit-learn p=0.0\n",
      "Precision is the same for both functions\n",
      "========TEST RECALL============\n",
      "Test recall for SGD\n",
      "my r          =0.8978622327790974\n",
      "scikit-learn r=0.8978622327790974\n",
      "Recall is the same for both functions\n",
      "Test recall for Dummy\n",
      "my r          =0.0\n",
      "scikit-learn r=0.0\n",
      "Recall is the same for both functions\n"
     ]
    }
   ],
   "source": [
    "from sklearn.metrics import precision_score\n",
    "from sklearn.metrics import recall_score\n",
    "def TestPrecision(y_true, y_pred):\n",
    "    p0=MyPrecision(y_true, y_pred)\n",
    "    p1=precision_score(y_true, y_pred)\n",
    "\n",
    "    print(f\"my p          ={p0}\")\n",
    "    print(f\"scikit-learn p={p1}\")\n",
    "\n",
    "    if fabs(p1-p0 <= 1e-9):\n",
    "        print(\"Precision is the same for both functions\")\n",
    "    else:\n",
    "        print(\"Precision is different for the functions\")\n",
    "        \n",
    "def TestRecall(y_true, y_pred):\n",
    "    r0=MyRecall(y_true, y_pred)\n",
    "    r1=recall_score(y_true, y_pred)\n",
    "\n",
    "    print(f\"my r          ={r0}\")\n",
    "    print(f\"scikit-learn r={r1}\")\n",
    "\n",
    "    if fabs(r1-r0 <= 1e-9):\n",
    "        print(\"Recall is the same for both functions\")\n",
    "    else:\n",
    "        print(\"Recall is different for the functions\")\n",
    "\n",
    "        \n",
    "    \n",
    "y_pred_sgd: object = sgd_clf.predict(X_test)\n",
    "y_pred_dummy = dummy_clf.predict(X_test)\n",
    "print(\"========TEST PREDICTION============\")\n",
    "print(\"Test precision for SGD\")\n",
    "TestPrecision(y_test_5, y_pred_sgd)\n",
    "print(\"Test precision for Dummy\")\n",
    "TestPrecision(y_test_5, y_pred_dummy)\n",
    "\n",
    "\n",
    "print(\"========TEST RECALL============\")\n",
    "print(\"Test recall for SGD\")    \n",
    "TestRecall(y_test_5, y_pred_sgd)\n",
    "print(\"Test recall for Dummy\")    \n",
    "TestRecall(y_test_5, y_pred_dummy)"
   ]
  },
  {
   "cell_type": "markdown",
   "metadata": {},
   "source": [
    "#### Qc The Confusion Matrix\n",
    "\n",
    "Revisit your solution to Qb in the `dummy_classifier.ipynb`. Generate the confusion matrix for both the Dummy and the SGD classifier using the `scklearn.metrics.confusion_matrix` function. \n",
    "\n",
    "I got the two confusion matrices\n",
    "\n",
    "```\n",
    "M_dummy=[[18166     0]\n",
    "        [ 1834     0]]\n",
    "   \n",
    "M_SDG=[[17618   548]\n",
    "      [  267  1567]]\n",
    "\n",
    "```\n",
    "your data may look similar (but not 100% equal).\n",
    "\n",
    "How are the Scikit-learn confusion matrix organized, where are the TP, FP, FN and TN located in the matrix indices, and what happens if you mess up the parameters calling\n",
    "\n",
    "```python\n",
    "confusion_matrix(y_train_pred, y_train_5)\n",
    "```\n",
    "\n",
    "instead of \n",
    "```python\n",
    "confusion_matrix(y_train_5, y_train_pred)\n",
    "```"
   ]
  },
  {
   "cell_type": "code",
   "execution_count": 13,
   "metadata": {},
   "outputs": [
    {
     "name": "stdout",
     "output_type": "stream",
     "text": [
      "SGD:\n",
      "[[11922   815]\n",
      " [  129  1134]]\n",
      "Dummy:\n",
      "[[12737     0]\n",
      " [ 1263     0]]\n",
      "\n",
      "SGD Swapped:\n",
      "[[11922   129]\n",
      " [  815  1134]]\n"
     ]
    }
   ],
   "source": [
    "from sklearn.metrics import confusion_matrix\n",
    "\n",
    "cm_sgd = confusion_matrix(y_test_5, y_pred_sgd)\n",
    "cm_sgd1 = confusion_matrix(y_pred_sgd, y_test_5)\n",
    "cm_dummy = confusion_matrix(y_test_5, y_pred_dummy)\n",
    "print(f\"SGD:\\n{cm_sgd}\\n\"\n",
    "      f\"Dummy:\\n{cm_dummy}\"\n",
    "      f\"\\n\\n\"\n",
    "      f\"SGD Swapped:\\n{cm_sgd1}\")\n",
    "\n",
    "#The confusion matrix is organized with respect to TP, FP, TN, FN as shown below:\n",
    "# [TN, FP]\n",
    "# [FN, TP]"
   ]
  },
  {
   "cell_type": "markdown",
   "metadata": {},
   "source": [
    "#### Qd A Confusion Matrix Heat-map\n",
    "\n",
    "Generate a _heat map_ image for the confusion matrices, `M_dummy` and `M_SGD` respectively, getting inspiration from [HOML] \"Error Analysis\", pp.102-015.\n",
    "\n",
    "This heat map could be an important guide for you when analysing multiclass data in the future."
   ]
  },
  {
   "cell_type": "code",
   "execution_count": 10,
   "metadata": {},
   "outputs": [
    {
     "data": {
      "text/plain": [
       "<matplotlib.image.AxesImage at 0x22af93e2e50>"
      ]
     },
     "execution_count": 10,
     "metadata": {},
     "output_type": "execute_result"
    },
    {
     "data": {
      "image/png": "[encoded data removed]",
      "text/plain": [
       "<Figure size 288x288 with 1 Axes>"
      ]
     },
     "metadata": {
      "needs_background": "light"
     },
     "output_type": "display_data"
    },
    {
     "data": {
      "image/png": "[encoded data removed]",
      "text/plain": [
       "<Figure size 288x288 with 1 Axes>"
      ]
     },
     "metadata": {
      "needs_background": "light"
     },
     "output_type": "display_data"
    }
   ],
   "source": [
    "import matplotlib.pyplot as plt\n",
    "plt.matshow(cm_sgd, cmap=plt.cm.gray)\n",
    "plt.matshow(cm_dummy, cmap=plt.cm.gray)"
   ]
  },
  {
   "cell_type": "markdown",
   "metadata": {},
   "source": [
    "### Qe Conclusion\n",
    "\n",
    "Now, conclude on all the exercise above. \n",
    "\n",
    "Write a short textual conclusion (max. 10- to 20-lines) that extract the _essence_ of the exercises: why did you think it was important to look at these particular ML concepts, and what was our overall learning outcome of the exercises (in broad terms)."
   ]
  },
  {
   "cell_type": "code",
   "execution_count": 11,
   "metadata": {},
   "outputs": [],
   "source": [
    "#\n",
    "#\n",
    "#\n",
    "#\n",
    "#\n",
    "#"
   ]
  }
 ],
 "metadata": {
  "kernelspec": {
   "display_name": "Python 3",
   "language": "python",
   "name": "python3"
  },
  "language_info": {
   "codemirror_mode": {
    "name": "ipython",
    "version": 3
   },
   "file_extension": ".py",
   "mimetype": "text/x-python",
   "name": "python",
   "nbconvert_exporter": "python",
   "pygments_lexer": "ipython3",
   "version": "3.8.3"
  },
  "varInspector": {
   "cols": {
    "lenName": 16,
    "lenType": 16,
    "lenVar": 40
   },
   "kernels_config": {
    "python": {
     "delete_cmd_postfix": "",
     "delete_cmd_prefix": "del ",
     "library": "var_list.py",
     "varRefreshCmd": "print(var_dic_list())"
    },
    "r": {
     "delete_cmd_postfix": ") ",
     "delete_cmd_prefix": "rm(",
     "library": "var_list.r",
     "varRefreshCmd": "cat(var_dic_list()) "
    }
   },
   "types_to_exclude": [
    "module",
    "function",
    "builtin_function_or_method",
    "instance",
    "_Feature"
   ],
   "window_display": false
  }
 },
 "nbformat": 4,
 "nbformat_minor": 2
}
