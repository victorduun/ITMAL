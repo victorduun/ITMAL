{
 "cells": [
  {
   "cell_type": "code",
   "execution_count": 12,
   "metadata": {},
   "outputs": [],
   "source": [
    "\n",
    "import numpy as np\n",
    "import pandas as pd\n",
    "import matplotlib.pyplot as plt\n",
    "import os, random, pickle, json, itertools\n",
    "import cv2\n",
    "from IPython.display import SVG\n",
    "\n",
    "from tensorflow.keras.utils import plot_model#, model_to_dot\n",
    "from sklearn.model_selection import train_test_split\n",
    "from sklearn.metrics import confusion_matrix\n",
    "from collections import Counter\n",
    "from sklearn.utils import class_weight\n",
    "from sklearn.preprocessing import LabelBinarizer\n",
    "\n",
    "from tensorflow.keras.utils import to_categorical\n",
    "from tensorflow.keras.models import Sequential, Model\n",
    "from tensorflow.keras.layers import (Add, Input, Conv2D, Dropout, Activation, BatchNormalization, MaxPooling2D, ZeroPadding2D, AveragePooling2D, Flatten, Dense)\n",
    "from tensorflow.keras.optimizers import Adam, SGD\n",
    "from tensorflow.keras.callbacks import TensorBoard, ModelCheckpoint, Callback\n",
    "from tensorflow.keras.preprocessing.image import ImageDataGenerator\n",
    "from tensorflow.keras.initializers import *\n",
    "from tqdm import tqdm"
   ]
  },
  {
   "cell_type": "code",
   "execution_count": 13,
   "metadata": {
    "pycharm": {
     "name": "#%%\n"
    }
   },
   "outputs": [],
   "source": [
    "def conv_block(X, k, filters, stage, block, s=2):\n",
    "    conv_base_name = 'conv_' + str(stage) + block + '_branch'\n",
    "    bn_base_name = 'bn_' + str(stage) + block + \"_branch\"\n",
    "\n",
    "    F1 = filters\n",
    "\n",
    "    X = Conv2D(filters=F1, kernel_size=(k, k), strides=(s, s),\n",
    "               padding='same', name=conv_base_name + '2a')(X)\n",
    "    X = BatchNormalization(name=bn_base_name + '2a')(X)\n",
    "    X = Activation('relu')(X)\n",
    "\n",
    "    return X\n",
    "    pass"
   ]
  },
  {
   "cell_type": "code",
   "execution_count": 14,
   "metadata": {
    "pycharm": {
     "name": "#%%\n"
    }
   },
   "outputs": [],
   "source": [
    "\n",
    "def basic_model(input_shape,classes):\n",
    "\n",
    "    X_input = Input(input_shape)\n",
    "\n",
    "    X = ZeroPadding2D((5,5))(X_input)\n",
    "\n",
    "    X = Conv2D(16,(3,3),strides=(2,2),name='conv1',padding=\"same\")(X)\n",
    "    X = BatchNormalization(name='bn_conv1')(X)\n",
    "\n",
    "    # stage 2\n",
    "    X = conv_block(X,3,32,2,block='A',s=1)\n",
    "    X = MaxPooling2D((2,2))(X)\n",
    "    X = Dropout(0.25)(X)\n",
    "\n",
    "#     Stage 3\n",
    "    X = conv_block(X,5,32,3,block='A',s=2)\n",
    "    X = MaxPooling2D((2,2))(X)\n",
    "    X = Dropout(0.25)(X)\n",
    "\n",
    "#     Stage 4\n",
    "    X = conv_block(X,3,64,4,block='A',s=1)\n",
    "    X = MaxPooling2D((2,2))(X)\n",
    "    X = Dropout(0.25)(X)\n",
    "\n",
    "#   Output Layer\n",
    "    X = Flatten()(X)\n",
    "    X = Dense(64)(X)\n",
    "    X = Dropout(0.5)(X)\n",
    "\n",
    "    X = Dense(128)(X)\n",
    "    X = Activation(\"relu\")(X)\n",
    "\n",
    "    X = Dense(classes,activation=\"softmax\",name=\"fc\"+str(classes))(X)\n",
    "\n",
    "    model = Model(inputs=X_input,outputs=X,name='Feature_Extraction_and_FC')\n",
    "\n",
    "    return model\n",
    "    pass"
   ]
  },
  {
   "cell_type": "code",
   "execution_count": 15,
   "metadata": {
    "pycharm": {
     "name": "#%%\n"
    }
   },
   "outputs": [
    {
     "data": {
      "text/plain": [
       "{'no-ship': 0, 'ship': 1}"
      ]
     },
     "execution_count": 15,
     "metadata": {},
     "output_type": "execute_result"
    }
   ],
   "source": [
    "class_names = [\"no-ship\",\"ship\"]\n",
    "\n",
    "class_name_labels = {class_name:i for i,class_name in enumerate(class_names)}\n",
    "\n",
    "num_classes = len(class_names)\n",
    "class_name_labels"
   ]
  },
  {
   "cell_type": "code",
   "execution_count": 16,
   "metadata": {
    "pycharm": {
     "name": "#%%\n"
    }
   },
   "outputs": [],
   "source": [
    "from numpy import expand_dims\n",
    "from keras.preprocessing.image import load_img\n",
    "from keras.preprocessing.image import img_to_array\n",
    "from keras.preprocessing.image import ImageDataGenerator\n",
    "from tqdm import tqdm"
   ]
  },
  {
   "cell_type": "code",
   "execution_count": 17,
   "metadata": {
    "pycharm": {
     "name": "#%%\n"
    }
   },
   "outputs": [],
   "source": [
    "def load_data():\n",
    "    print(\"Loading ship data\")\n",
    "    ships_path = os.path.join('../../data/raw/','shipsnet.json')\n",
    "    with open(ships_path) as file:\n",
    "        dataset = json.load(file)\n",
    "\n",
    "    labels = np.array(dataset[\"labels\"]).astype(\"float32\")\n",
    "\n",
    "    img_length = 80\n",
    "    images = np.array(dataset[\"data\"]).astype(\"uint8\")\n",
    "    images = images.reshape(-1, 3, img_length, img_length).transpose([0, 2, 3, 1])\n",
    "    images = [cv2.cvtColor(img,cv2.COLOR_BGR2RGB) for img in images]\n",
    "    images = [cv2.resize(img, (48,48)) for img in images]\n",
    "    images = np.array(images,dtype=np.float32)/255.0\n",
    "    print(\"Data loaded\")\n",
    "    return images, labels\n"
   ]
  },
  {
   "cell_type": "code",
   "execution_count": 18,
   "metadata": {
    "pycharm": {
     "name": "#%%\n"
    }
   },
   "outputs": [
    {
     "name": "stdout",
     "output_type": "stream",
     "text": [
      "Loading ship data\n",
      "Data loaded\n"
     ]
    },
    {
     "data": {
      "text/plain": [
       "((4000, 48, 48, 3), (4000,))"
      ]
     },
     "execution_count": 18,
     "metadata": {},
     "output_type": "execute_result"
    }
   ],
   "source": [
    "(images, labels) = load_data()\n",
    "images.shape, labels.shape\n"
   ]
  },
  {
   "cell_type": "code",
   "execution_count": null,
   "metadata": {
    "pycharm": {
     "name": "#%%\n"
    }
   },
   "outputs": [],
   "source": []
  },
  {
   "cell_type": "code",
   "execution_count": 19,
   "metadata": {
    "pycharm": {
     "name": "#%%\n"
    }
   },
   "outputs": [],
   "source": [
    "labels = to_categorical(labels)"
   ]
  },
  {
   "cell_type": "code",
   "execution_count": 20,
   "metadata": {},
   "outputs": [],
   "source": [
    "np.random.seed(42)\n",
    "np.random.shuffle(images)\n",
    "\n",
    "np.random.seed(42)\n",
    "np.random.shuffle(labels)"
   ]
  },
  {
   "cell_type": "code",
   "execution_count": 21,
   "metadata": {},
   "outputs": [
    {
     "data": {
      "text/plain": [
       "((3200, 48, 48, 3), (800, 48, 48, 3))"
      ]
     },
     "execution_count": 21,
     "metadata": {},
     "output_type": "execute_result"
    }
   ],
   "source": [
    "\n",
    "total_count = len(images)\n",
    "total_count\n",
    "\n",
    "train = int(0.8*total_count)\n",
    "test = int(0.2*total_count)\n",
    "\n",
    "train_images, train_labels = images[:train], labels[:train]\n",
    "test_images, test_labels = images[-test:], labels[-test:]\n",
    "\n",
    "train_images.shape, test_images.shape"
   ]
  },
  {
   "cell_type": "code",
   "execution_count": 22,
   "metadata": {},
   "outputs": [],
   "source": [
    "batch_size=16\n",
    "\n",
    "IGD = ImageDataGenerator(horizontal_flip=True,\n",
    "                         vertical_flip=True,\n",
    "                         rotation_range=20,\n",
    "                         validation_split=0.2)\n",
    "IGD.fit(train_images)"
   ]
  },
  {
   "cell_type": "code",
   "execution_count": 23,
   "metadata": {},
   "outputs": [],
   "source": [
    "train_generator = IGD.flow(\n",
    "    train_images,\n",
    "    train_labels,\n",
    "    batch_size=batch_size,\n",
    "    seed = 42,\n",
    "    shuffle=True,\n",
    "    subset=\"training\"\n",
    "    )\n",
    "\n",
    "val_generator = IGD.flow(\n",
    "    train_images,\n",
    "    train_labels,\n",
    "    batch_size=batch_size,\n",
    "    seed = 42,\n",
    "    shuffle=True,\n",
    "    subset=\"validation\",\n",
    "    )"
   ]
  },
  {
   "cell_type": "code",
   "execution_count": null,
   "metadata": {
    "pycharm": {
     "name": "#%%\n"
    }
   },
   "outputs": [],
   "source": []
  },
  {
   "cell_type": "code",
   "execution_count": 24,
   "metadata": {
    "pycharm": {
     "name": "#%%\n"
    }
   },
   "outputs": [],
   "source": [
    "model = basic_model(input_shape=(48,48,3),classes=2)"
   ]
  },
  {
   "cell_type": "code",
   "execution_count": 25,
   "metadata": {
    "pycharm": {
     "is_executing": true,
     "name": "#%%\n"
    }
   },
   "outputs": [
    {
     "name": "stdout",
     "output_type": "stream",
     "text": [
      "Model: \"Feature_Extraction_and_FC\"\n",
      "_________________________________________________________________\n",
      "Layer (type)                 Output Shape              Param #   \n",
      "=================================================================\n",
      "input_1 (InputLayer)         [(None, 48, 48, 3)]       0         \n",
      "_________________________________________________________________\n",
      "zero_padding2d (ZeroPadding2 (None, 58, 58, 3)         0         \n",
      "_________________________________________________________________\n",
      "conv1 (Conv2D)               (None, 29, 29, 16)        448       \n",
      "_________________________________________________________________\n",
      "bn_conv1 (BatchNormalization (None, 29, 29, 16)        64        \n",
      "_________________________________________________________________\n",
      "conv_2A_branch2a (Conv2D)    (None, 29, 29, 32)        4640      \n",
      "_________________________________________________________________\n",
      "bn_2A_branch2a (BatchNormali (None, 29, 29, 32)        128       \n",
      "_________________________________________________________________\n",
      "activation (Activation)      (None, 29, 29, 32)        0         \n",
      "_________________________________________________________________\n",
      "max_pooling2d (MaxPooling2D) (None, 14, 14, 32)        0         \n",
      "_________________________________________________________________\n",
      "dropout (Dropout)            (None, 14, 14, 32)        0         \n",
      "_________________________________________________________________\n",
      "conv_3A_branch2a (Conv2D)    (None, 7, 7, 32)          25632     \n",
      "_________________________________________________________________\n",
      "bn_3A_branch2a (BatchNormali (None, 7, 7, 32)          128       \n",
      "_________________________________________________________________\n",
      "activation_1 (Activation)    (None, 7, 7, 32)          0         \n",
      "_________________________________________________________________\n",
      "max_pooling2d_1 (MaxPooling2 (None, 3, 3, 32)          0         \n",
      "_________________________________________________________________\n",
      "dropout_1 (Dropout)          (None, 3, 3, 32)          0         \n",
      "_________________________________________________________________\n",
      "conv_4A_branch2a (Conv2D)    (None, 3, 3, 64)          18496     \n",
      "_________________________________________________________________\n",
      "bn_4A_branch2a (BatchNormali (None, 3, 3, 64)          256       \n",
      "_________________________________________________________________\n",
      "activation_2 (Activation)    (None, 3, 3, 64)          0         \n",
      "_________________________________________________________________\n",
      "max_pooling2d_2 (MaxPooling2 (None, 1, 1, 64)          0         \n",
      "_________________________________________________________________\n",
      "dropout_2 (Dropout)          (None, 1, 1, 64)          0         \n",
      "_________________________________________________________________\n",
      "flatten (Flatten)            (None, 64)                0         \n",
      "_________________________________________________________________\n",
      "dense (Dense)                (None, 64)                4160      \n",
      "_________________________________________________________________\n",
      "dropout_3 (Dropout)          (None, 64)                0         \n",
      "_________________________________________________________________\n",
      "dense_1 (Dense)              (None, 128)               8320      \n",
      "_________________________________________________________________\n",
      "activation_3 (Activation)    (None, 128)               0         \n",
      "_________________________________________________________________\n",
      "fc2 (Dense)                  (None, 2)                 258       \n",
      "=================================================================\n",
      "Total params: 62,530\n",
      "Trainable params: 62,242\n",
      "Non-trainable params: 288\n",
      "_________________________________________________________________\n"
     ]
    }
   ],
   "source": [
    "\n",
    "model.summary()\n"
   ]
  },
  {
   "cell_type": "code",
   "execution_count": 26,
   "metadata": {},
   "outputs": [],
   "source": [
    "opt = Adam(lr=1e-4)\n",
    "model.compile(optimizer=opt,loss='binary_crossentropy',metrics=['acc'])"
   ]
  },
  {
   "cell_type": "code",
   "execution_count": 27,
   "metadata": {},
   "outputs": [],
   "source": [
    "checkpoint = ModelCheckpoint(\"model_weights.h5\",monitor='val_acc',verbose=1,save_best_only=True,mode='max')\n",
    "logs = TensorBoard(\"logs\")\n"
   ]
  },
  {
   "cell_type": "code",
   "execution_count": 28,
   "metadata": {
    "pycharm": {
     "name": "#%%\n"
    }
   },
   "outputs": [
    {
     "data": {
      "text/plain": [
       "{0: 1.0, 1: 2.9263804}"
      ]
     },
     "execution_count": 28,
     "metadata": {},
     "output_type": "execute_result"
    }
   ],
   "source": [
    "count_labels = train_labels.sum(axis=0)\n",
    "\n",
    "classTotals = train_labels.sum(axis=0)\n",
    "classWeight = {}\n",
    "\n",
    "for i in range(0,len(classTotals)):\n",
    "    classWeight[i] = classTotals.max()/classTotals[i]\n",
    "    pass\n",
    "\n",
    "classWeight\n"
   ]
  },
  {
   "cell_type": "code",
   "execution_count": 29,
   "metadata": {
    "pycharm": {
     "name": "#%%\n"
    }
   },
   "outputs": [
    {
     "name": "stdout",
     "output_type": "stream",
     "text": [
      "WARNING:tensorflow:From <ipython-input-29-011bfa471408>:3: Model.fit_generator (from tensorflow.python.keras.engine.training) is deprecated and will be removed in a future version.\n",
      "Instructions for updating:\n",
      "Please use Model.fit, which supports generators.\n",
      "Epoch 1/150\n",
      "  1/160 [..............................] - ETA: 0s - loss: 1.7573 - acc: 0.1250WARNING:tensorflow:From c:\\users\\victo\\aarhus universitet\\test - dokumenter\\elektronik\\noter elektronik\\elektronik 6. semester\\itmal\\itmal - exercises\\venv\\lib\\site-packages\\tensorflow\\python\\ops\\summary_ops_v2.py:1277: stop (from tensorflow.python.eager.profiler) is deprecated and will be removed after 2020-07-01.\n",
      "Instructions for updating:\n",
      "use `tf.profiler.experimental.stop` instead.\n",
      "160/160 [==============================] - ETA: 0s - loss: 1.2361 - acc: 0.5238\n",
      "Epoch 00001: val_acc improved from -inf to 0.61094, saving model to model_weights.h5\n",
      "160/160 [==============================] - 7s 45ms/step - loss: 1.2361 - acc: 0.5238 - val_loss: 0.6867 - val_acc: 0.6109\n",
      "Epoch 2/150\n",
      "160/160 [==============================] - ETA: 0s - loss: 1.0227 - acc: 0.6059\n",
      "Epoch 00002: val_acc improved from 0.61094 to 0.79062, saving model to model_weights.h5\n",
      "160/160 [==============================] - 9s 54ms/step - loss: 1.0227 - acc: 0.6059 - val_loss: 0.6165 - val_acc: 0.7906\n",
      "Epoch 3/150\n",
      "159/160 [============================>.] - ETA: 0s - loss: 0.8316 - acc: 0.7044- ETA: 1s - l\n",
      "Epoch 00003: val_acc improved from 0.79062 to 0.85781, saving model to model_weights.h5\n",
      "160/160 [==============================] - 8s 52ms/step - loss: 0.8338 - acc: 0.7047 - val_loss: 0.4658 - val_acc: 0.8578\n",
      "Epoch 4/150\n",
      "160/160 [==============================] - ETA: 0s - loss: 0.7535 - acc: 0.7473\n",
      "Epoch 00004: val_acc improved from 0.85781 to 0.87656, saving model to model_weights.h5\n",
      "160/160 [==============================] - 8s 52ms/step - loss: 0.7535 - acc: 0.7473 - val_loss: 0.3472 - val_acc: 0.8766\n",
      "Epoch 5/150\n",
      "159/160 [============================>.] - ETA: 0s - loss: 0.6583 - acc: 0.7893\n",
      "Epoch 00005: val_acc improved from 0.87656 to 0.90000, saving model to model_weights.h5\n",
      "160/160 [==============================] - 9s 53ms/step - loss: 0.6573 - acc: 0.7895 - val_loss: 0.2617 - val_acc: 0.9000\n",
      "Epoch 6/150\n",
      "160/160 [==============================] - ETA: 0s - loss: 0.6175 - acc: 0.8113\n",
      "Epoch 00006: val_acc improved from 0.90000 to 0.90938, saving model to model_weights.h5\n",
      "160/160 [==============================] - 7s 46ms/step - loss: 0.6175 - acc: 0.8113 - val_loss: 0.2394 - val_acc: 0.9094\n",
      "Epoch 7/150\n",
      "159/160 [============================>.] - ETA: 0s - loss: 0.5588 - acc: 0.8443\n",
      "Epoch 00007: val_acc did not improve from 0.90938\n",
      "160/160 [==============================] - 8s 52ms/step - loss: 0.5575 - acc: 0.8441 - val_loss: 0.2435 - val_acc: 0.8906\n",
      "Epoch 8/150\n",
      "159/160 [============================>.] - ETA: 0s - loss: 0.5143 - acc: 0.8581\n",
      "Epoch 00008: val_acc improved from 0.90938 to 0.91562, saving model to model_weights.h5\n",
      "160/160 [==============================] - 8s 51ms/step - loss: 0.5134 - acc: 0.8582 - val_loss: 0.1888 - val_acc: 0.9156\n",
      "Epoch 9/150\n",
      "160/160 [==============================] - ETA: 0s - loss: 0.4801 - acc: 0.8609\n",
      "Epoch 00009: val_acc did not improve from 0.91562\n",
      "160/160 [==============================] - 8s 48ms/step - loss: 0.4801 - acc: 0.8609 - val_loss: 0.2193 - val_acc: 0.9062\n",
      "Epoch 10/150\n",
      "160/160 [==============================] - ETA: 0s - loss: 0.4256 - acc: 0.8797\n",
      "Epoch 00010: val_acc did not improve from 0.91562\n",
      "160/160 [==============================] - 8s 50ms/step - loss: 0.4256 - acc: 0.8797 - val_loss: 0.2014 - val_acc: 0.9078\n",
      "Epoch 11/150\n",
      "159/160 [============================>.] - ETA: 0s - loss: 0.4378 - acc: 0.8734\n",
      "Epoch 00011: val_acc improved from 0.91562 to 0.91875, saving model to model_weights.h5\n",
      "160/160 [==============================] - 9s 55ms/step - loss: 0.4377 - acc: 0.8734 - val_loss: 0.1866 - val_acc: 0.9187\n",
      "Epoch 12/150\n",
      "159/160 [============================>.] - ETA: 0s - loss: 0.3920 - acc: 0.8892\n",
      "Epoch 00012: val_acc did not improve from 0.91875\n",
      "160/160 [==============================] - 8s 50ms/step - loss: 0.3919 - acc: 0.8883 - val_loss: 0.1863 - val_acc: 0.9109\n",
      "Epoch 13/150\n",
      "160/160 [==============================] - ETA: 0s - loss: 0.3872 - acc: 0.8957\n",
      "Epoch 00013: val_acc improved from 0.91875 to 0.92188, saving model to model_weights.h5\n",
      "160/160 [==============================] - 8s 48ms/step - loss: 0.3872 - acc: 0.8957 - val_loss: 0.1662 - val_acc: 0.9219\n",
      "Epoch 14/150\n",
      "160/160 [==============================] - ETA: 0s - loss: 0.3581 - acc: 0.9020\n",
      "Epoch 00014: val_acc improved from 0.92188 to 0.94219, saving model to model_weights.h5\n",
      "160/160 [==============================] - 9s 53ms/step - loss: 0.3581 - acc: 0.9020 - val_loss: 0.1517 - val_acc: 0.9422\n",
      "Epoch 15/150\n",
      "160/160 [==============================] - ETA: 0s - loss: 0.3281 - acc: 0.9062\n",
      "Epoch 00015: val_acc did not improve from 0.94219\n",
      "160/160 [==============================] - 8s 51ms/step - loss: 0.3281 - acc: 0.9062 - val_loss: 0.1675 - val_acc: 0.9312\n",
      "Epoch 16/150\n",
      "159/160 [============================>.] - ETA: 0s - loss: 0.3555 - acc: 0.9029\n",
      "Epoch 00016: val_acc did not improve from 0.94219\n",
      "160/160 [==============================] - 9s 55ms/step - loss: 0.3573 - acc: 0.9027 - val_loss: 0.1451 - val_acc: 0.9375\n",
      "Epoch 17/150\n",
      "160/160 [==============================] - ETA: 0s - loss: 0.3173 - acc: 0.9160\n",
      "Epoch 00017: val_acc improved from 0.94219 to 0.94844, saving model to model_weights.h5\n",
      "160/160 [==============================] - 8s 48ms/step - loss: 0.3173 - acc: 0.9160 - val_loss: 0.1354 - val_acc: 0.9484\n",
      "Epoch 18/150\n",
      "159/160 [============================>.] - ETA: 0s - loss: 0.3330 - acc: 0.9092\n",
      "Epoch 00018: val_acc improved from 0.94844 to 0.95469, saving model to model_weights.h5\n",
      "160/160 [==============================] - 7s 43ms/step - loss: 0.3317 - acc: 0.9098 - val_loss: 0.1047 - val_acc: 0.9547\n",
      "Epoch 19/150\n",
      "160/160 [==============================] - ETA: 0s - loss: 0.2975 - acc: 0.9176\n",
      "Epoch 00019: val_acc did not improve from 0.95469\n",
      "160/160 [==============================] - 7s 45ms/step - loss: 0.2975 - acc: 0.9176 - val_loss: 0.1369 - val_acc: 0.9422\n",
      "Epoch 20/150\n",
      "160/160 [==============================] - ETA: 0s - loss: 0.3034 - acc: 0.9059\n",
      "Epoch 00020: val_acc did not improve from 0.95469\n",
      "160/160 [==============================] - 8s 50ms/step - loss: 0.3034 - acc: 0.9059 - val_loss: 0.1255 - val_acc: 0.9453\n",
      "Epoch 21/150\n",
      "160/160 [==============================] - ETA: 0s - loss: 0.2943 - acc: 0.9191\n",
      "Epoch 00021: val_acc improved from 0.95469 to 0.95938, saving model to model_weights.h5\n",
      "160/160 [==============================] - 7s 43ms/step - loss: 0.2943 - acc: 0.9191 - val_loss: 0.1035 - val_acc: 0.9594\n",
      "Epoch 22/150\n",
      "160/160 [==============================] - ETA: 0s - loss: 0.2602 - acc: 0.9215\n",
      "Epoch 00022: val_acc did not improve from 0.95938\n",
      "160/160 [==============================] - 7s 42ms/step - loss: 0.2602 - acc: 0.9215 - val_loss: 0.1135 - val_acc: 0.9516\n",
      "Epoch 23/150\n",
      "160/160 [==============================] - ETA: 0s - loss: 0.2573 - acc: 0.9277\n",
      "Epoch 00023: val_acc did not improve from 0.95938\n",
      "160/160 [==============================] - 6s 40ms/step - loss: 0.2573 - acc: 0.9277 - val_loss: 0.1548 - val_acc: 0.9328\n",
      "Epoch 24/150\n",
      "160/160 [==============================] - ETA: 0s - loss: 0.2704 - acc: 0.9289\n",
      "Epoch 00024: val_acc did not improve from 0.95938\n",
      "160/160 [==============================] - 7s 41ms/step - loss: 0.2704 - acc: 0.9289 - val_loss: 0.1596 - val_acc: 0.9344\n",
      "Epoch 25/150\n",
      "159/160 [============================>.] - ETA: 0s - loss: 0.2535 - acc: 0.9336\n",
      "Epoch 00025: val_acc did not improve from 0.95938\n",
      "160/160 [==============================] - 6s 40ms/step - loss: 0.2530 - acc: 0.9340 - val_loss: 0.1019 - val_acc: 0.9563\n",
      "Epoch 26/150\n",
      "159/160 [============================>.] - ETA: 0s - loss: 0.2603 - acc: 0.9296\n",
      "Epoch 00026: val_acc did not improve from 0.95938\n",
      "160/160 [==============================] - 6s 40ms/step - loss: 0.2591 - acc: 0.9297 - val_loss: 0.1140 - val_acc: 0.9516\n",
      "Epoch 27/150\n"
     ]
    },
    {
     "name": "stdout",
     "output_type": "stream",
     "text": [
      "160/160 [==============================] - ETA: 0s - loss: 0.2714 - acc: 0.9328\n",
      "Epoch 00027: val_acc did not improve from 0.95938\n",
      "160/160 [==============================] - 6s 40ms/step - loss: 0.2714 - acc: 0.9328 - val_loss: 0.1191 - val_acc: 0.9563\n",
      "Epoch 28/150\n",
      "160/160 [==============================] - ETA: 0s - loss: 0.2446 - acc: 0.9371\n",
      "Epoch 00028: val_acc did not improve from 0.95938\n",
      "160/160 [==============================] - 6s 40ms/step - loss: 0.2446 - acc: 0.9371 - val_loss: 0.1063 - val_acc: 0.9594\n",
      "Epoch 29/150\n",
      "160/160 [==============================] - ETA: 0s - loss: 0.2373 - acc: 0.9363\n",
      "Epoch 00029: val_acc improved from 0.95938 to 0.96562, saving model to model_weights.h5\n",
      "160/160 [==============================] - 7s 41ms/step - loss: 0.2373 - acc: 0.9363 - val_loss: 0.0950 - val_acc: 0.9656\n",
      "Epoch 30/150\n",
      "159/160 [============================>.] - ETA: 0s - loss: 0.2290 - acc: 0.9399\n",
      "Epoch 00030: val_acc did not improve from 0.96562\n",
      "160/160 [==============================] - 8s 48ms/step - loss: 0.2290 - acc: 0.9395 - val_loss: 0.0989 - val_acc: 0.9594\n",
      "Epoch 31/150\n",
      "160/160 [==============================] - ETA: 0s - loss: 0.2434 - acc: 0.9395\n",
      "Epoch 00031: val_acc did not improve from 0.96562\n",
      "160/160 [==============================] - 6s 39ms/step - loss: 0.2434 - acc: 0.9395 - val_loss: 0.0879 - val_acc: 0.9641\n",
      "Epoch 32/150\n",
      "160/160 [==============================] - ETA: 0s - loss: 0.2204 - acc: 0.9414\n",
      "Epoch 00032: val_acc did not improve from 0.96562\n",
      "160/160 [==============================] - 6s 38ms/step - loss: 0.2204 - acc: 0.9414 - val_loss: 0.0852 - val_acc: 0.9625\n",
      "Epoch 33/150\n",
      "160/160 [==============================] - ETA: 0s - loss: 0.2253 - acc: 0.9383\n",
      "Epoch 00033: val_acc did not improve from 0.96562\n",
      "160/160 [==============================] - 7s 45ms/step - loss: 0.2253 - acc: 0.9383 - val_loss: 0.0876 - val_acc: 0.9641\n",
      "Epoch 34/150\n",
      "159/160 [============================>.] - ETA: 0s - loss: 0.1870 - acc: 0.9501\n",
      "Epoch 00034: val_acc did not improve from 0.96562\n",
      "160/160 [==============================] - 7s 44ms/step - loss: 0.1875 - acc: 0.9500 - val_loss: 0.0915 - val_acc: 0.9609\n",
      "Epoch 35/150\n",
      "160/160 [==============================] - ETA: 0s - loss: 0.1910 - acc: 0.9543\n",
      "Epoch 00035: val_acc did not improve from 0.96562\n",
      "160/160 [==============================] - 6s 39ms/step - loss: 0.1910 - acc: 0.9543 - val_loss: 0.1025 - val_acc: 0.9594\n",
      "Epoch 36/150\n",
      "160/160 [==============================] - ETA: 0s - loss: 0.2135 - acc: 0.9449\n",
      "Epoch 00036: val_acc did not improve from 0.96562\n",
      "160/160 [==============================] - 6s 38ms/step - loss: 0.2135 - acc: 0.9449 - val_loss: 0.1192 - val_acc: 0.9484\n",
      "Epoch 37/150\n",
      "159/160 [============================>.] - ETA: 0s - loss: 0.1938 - acc: 0.9477\n",
      "Epoch 00037: val_acc did not improve from 0.96562\n",
      "160/160 [==============================] - 6s 38ms/step - loss: 0.1931 - acc: 0.9480 - val_loss: 0.1129 - val_acc: 0.9484\n",
      "Epoch 38/150\n",
      "160/160 [==============================] - ETA: 0s - loss: 0.1861 - acc: 0.9469\n",
      "Epoch 00038: val_acc did not improve from 0.96562\n",
      "160/160 [==============================] - 6s 38ms/step - loss: 0.1861 - acc: 0.9469 - val_loss: 0.0968 - val_acc: 0.9641\n",
      "Epoch 39/150\n",
      "159/160 [============================>.] - ETA: 0s - loss: 0.1997 - acc: 0.9469\n",
      "Epoch 00039: val_acc improved from 0.96562 to 0.97031, saving model to model_weights.h5\n",
      "160/160 [==============================] - 6s 38ms/step - loss: 0.1993 - acc: 0.9469 - val_loss: 0.0695 - val_acc: 0.9703\n",
      "Epoch 40/150\n",
      "159/160 [============================>.] - ETA: 0s - loss: 0.1941 - acc: 0.9461\n",
      "Epoch 00040: val_acc did not improve from 0.97031\n",
      "160/160 [==============================] - 6s 39ms/step - loss: 0.1933 - acc: 0.9465 - val_loss: 0.0856 - val_acc: 0.9672\n",
      "Epoch 41/150\n",
      "160/160 [==============================] - ETA: 0s - loss: 0.1882 - acc: 0.9500\n",
      "Epoch 00041: val_acc did not improve from 0.97031\n",
      "160/160 [==============================] - 6s 39ms/step - loss: 0.1882 - acc: 0.9500 - val_loss: 0.1300 - val_acc: 0.9391\n",
      "Epoch 42/150\n",
      "159/160 [============================>.] - ETA: 0s - loss: 0.1777 - acc: 0.9509\n",
      "Epoch 00042: val_acc did not improve from 0.97031\n",
      "160/160 [==============================] - 6s 38ms/step - loss: 0.1773 - acc: 0.9508 - val_loss: 0.0918 - val_acc: 0.9656\n",
      "Epoch 43/150\n",
      "160/160 [==============================] - ETA: 0s - loss: 0.1670 - acc: 0.9535\n",
      "Epoch 00043: val_acc did not improve from 0.97031\n",
      "160/160 [==============================] - 6s 38ms/step - loss: 0.1670 - acc: 0.9535 - val_loss: 0.0699 - val_acc: 0.9703\n",
      "Epoch 44/150\n",
      "159/160 [============================>.] - ETA: 0s - loss: 0.1884 - acc: 0.9517\n",
      "Epoch 00044: val_acc did not improve from 0.97031\n",
      "160/160 [==============================] - 6s 38ms/step - loss: 0.1879 - acc: 0.9520 - val_loss: 0.0740 - val_acc: 0.9641\n",
      "Epoch 45/150\n",
      "159/160 [============================>.] - ETA: 0s - loss: 0.1782 - acc: 0.9517\n",
      "Epoch 00045: val_acc did not improve from 0.97031\n",
      "160/160 [==============================] - 6s 39ms/step - loss: 0.1774 - acc: 0.9520 - val_loss: 0.0892 - val_acc: 0.9594\n",
      "Epoch 46/150\n",
      "159/160 [============================>.] - ETA: 0s - loss: 0.1743 - acc: 0.9485\n",
      "Epoch 00046: val_acc did not improve from 0.97031\n",
      "160/160 [==============================] - 6s 38ms/step - loss: 0.1736 - acc: 0.9488 - val_loss: 0.0704 - val_acc: 0.9672\n",
      "Epoch 47/150\n",
      "160/160 [==============================] - ETA: 0s - loss: 0.1536 - acc: 0.9551\n",
      "Epoch 00047: val_acc improved from 0.97031 to 0.97656, saving model to model_weights.h5\n",
      "160/160 [==============================] - 6s 39ms/step - loss: 0.1536 - acc: 0.9551 - val_loss: 0.0646 - val_acc: 0.9766\n",
      "Epoch 48/150\n",
      "160/160 [==============================] - ETA: 0s - loss: 0.1751 - acc: 0.9512\n",
      "Epoch 00048: val_acc did not improve from 0.97656\n",
      "160/160 [==============================] - 6s 40ms/step - loss: 0.1751 - acc: 0.9512 - val_loss: 0.0755 - val_acc: 0.9609\n",
      "Epoch 49/150\n",
      "159/160 [============================>.] - ETA: 0s - loss: 0.1591 - acc: 0.9575\n",
      "Epoch 00049: val_acc did not improve from 0.97656\n",
      "160/160 [==============================] - 6s 39ms/step - loss: 0.1589 - acc: 0.9578 - val_loss: 0.0811 - val_acc: 0.9703\n",
      "Epoch 50/150\n",
      "159/160 [============================>.] - ETA: 0s - loss: 0.1588 - acc: 0.9587\n",
      "Epoch 00050: val_acc did not improve from 0.97656\n",
      "160/160 [==============================] - 6s 38ms/step - loss: 0.1598 - acc: 0.9586 - val_loss: 0.0640 - val_acc: 0.9703\n",
      "Epoch 51/150\n",
      "159/160 [============================>.] - ETA: 0s - loss: 0.1549 - acc: 0.9595\n",
      "Epoch 00051: val_acc did not improve from 0.97656\n",
      "160/160 [==============================] - 6s 39ms/step - loss: 0.1540 - acc: 0.9598 - val_loss: 0.0758 - val_acc: 0.9688\n",
      "Epoch 52/150\n",
      "160/160 [==============================] - ETA: 0s - loss: 0.1570 - acc: 0.9578\n",
      "Epoch 00052: val_acc did not improve from 0.97656\n",
      "160/160 [==============================] - 6s 38ms/step - loss: 0.1570 - acc: 0.9578 - val_loss: 0.0678 - val_acc: 0.9703\n",
      "Epoch 53/150\n",
      "160/160 [==============================] - ETA: 0s - loss: 0.1423 - acc: 0.9617\n",
      "Epoch 00053: val_acc did not improve from 0.97656\n",
      "160/160 [==============================] - 6s 38ms/step - loss: 0.1423 - acc: 0.9617 - val_loss: 0.0655 - val_acc: 0.9766\n",
      "Epoch 54/150\n",
      "160/160 [==============================] - ETA: 0s - loss: 0.1492 - acc: 0.9594\n",
      "Epoch 00054: val_acc did not improve from 0.97656\n",
      "160/160 [==============================] - 6s 39ms/step - loss: 0.1492 - acc: 0.9594 - val_loss: 0.0781 - val_acc: 0.9625\n",
      "Epoch 55/150\n",
      "159/160 [============================>.] - ETA: 0s - loss: 0.1370 - acc: 0.9638\n",
      "Epoch 00055: val_acc did not improve from 0.97656\n",
      "160/160 [==============================] - 6s 39ms/step - loss: 0.1369 - acc: 0.9637 - val_loss: 0.0485 - val_acc: 0.9750\n",
      "Epoch 56/150\n",
      "159/160 [============================>.] - ETA: 0s - loss: 0.1545 - acc: 0.9603\n",
      "Epoch 00056: val_acc did not improve from 0.97656\n",
      "160/160 [==============================] - 6s 38ms/step - loss: 0.1555 - acc: 0.9594 - val_loss: 0.0588 - val_acc: 0.9766\n",
      "Epoch 57/150\n",
      "159/160 [============================>.] - ETA: 0s - loss: 0.1431 - acc: 0.9662\n",
      "Epoch 00057: val_acc did not improve from 0.97656\n",
      "160/160 [==============================] - 6s 39ms/step - loss: 0.1432 - acc: 0.9660 - val_loss: 0.0883 - val_acc: 0.9563\n"
     ]
    },
    {
     "name": "stdout",
     "output_type": "stream",
     "text": [
      "Epoch 58/150\n",
      "159/160 [============================>.] - ETA: 0s - loss: 0.1269 - acc: 0.9646\n",
      "Epoch 00058: val_acc improved from 0.97656 to 0.98125, saving model to model_weights.h5\n",
      "160/160 [==============================] - 6s 36ms/step - loss: 0.1266 - acc: 0.9648 - val_loss: 0.0490 - val_acc: 0.9812\n",
      "Epoch 59/150\n",
      "160/160 [==============================] - ETA: 0s - loss: 0.1277 - acc: 0.9668\n",
      "Epoch 00059: val_acc did not improve from 0.98125\n",
      "160/160 [==============================] - 6s 38ms/step - loss: 0.1277 - acc: 0.9668 - val_loss: 0.0528 - val_acc: 0.9766\n",
      "Epoch 60/150\n",
      "160/160 [==============================] - ETA: 0s - loss: 0.1418 - acc: 0.9605\n",
      "Epoch 00060: val_acc did not improve from 0.98125\n",
      "160/160 [==============================] - 6s 36ms/step - loss: 0.1418 - acc: 0.9605 - val_loss: 0.0461 - val_acc: 0.9812\n",
      "Epoch 61/150\n",
      "159/160 [============================>.] - ETA: 0s - loss: 0.1468 - acc: 0.9568- ETA: 0s - loss: 0.1473 - \n",
      "Epoch 00061: val_acc did not improve from 0.98125\n",
      "160/160 [==============================] - 6s 36ms/step - loss: 0.1459 - acc: 0.9570 - val_loss: 0.0784 - val_acc: 0.9688\n",
      "Epoch 62/150\n",
      "160/160 [==============================] - ETA: 0s - loss: 0.1157 - acc: 0.9672\n",
      "Epoch 00062: val_acc did not improve from 0.98125\n",
      "160/160 [==============================] - 6s 37ms/step - loss: 0.1157 - acc: 0.9672 - val_loss: 0.0534 - val_acc: 0.9703\n",
      "Epoch 63/150\n",
      "160/160 [==============================] - ETA: 0s - loss: 0.1216 - acc: 0.9699\n",
      "Epoch 00063: val_acc did not improve from 0.98125\n",
      "160/160 [==============================] - 6s 36ms/step - loss: 0.1216 - acc: 0.9699 - val_loss: 0.0652 - val_acc: 0.9719\n",
      "Epoch 64/150\n",
      "159/160 [============================>.] - ETA: 0s - loss: 0.1240 - acc: 0.9678\n",
      "Epoch 00064: val_acc did not improve from 0.98125\n",
      "160/160 [==============================] - 6s 36ms/step - loss: 0.1246 - acc: 0.9680 - val_loss: 0.0483 - val_acc: 0.9812\n",
      "Epoch 65/150\n",
      "159/160 [============================>.] - ETA: 0s - loss: 0.1045 - acc: 0.9682\n",
      "Epoch 00065: val_acc did not improve from 0.98125\n",
      "160/160 [==============================] - 6s 36ms/step - loss: 0.1042 - acc: 0.9684 - val_loss: 0.0448 - val_acc: 0.9797\n",
      "Epoch 66/150\n",
      "160/160 [==============================] - ETA: 0s - loss: 0.1414 - acc: 0.9629\n",
      "Epoch 00066: val_acc improved from 0.98125 to 0.98438, saving model to model_weights.h5\n",
      "160/160 [==============================] - 6s 36ms/step - loss: 0.1414 - acc: 0.9629 - val_loss: 0.0412 - val_acc: 0.9844\n",
      "Epoch 67/150\n",
      "159/160 [============================>.] - ETA: 0s - loss: 0.1208 - acc: 0.9709\n",
      "Epoch 00067: val_acc did not improve from 0.98438\n",
      "160/160 [==============================] - 6s 37ms/step - loss: 0.1209 - acc: 0.9707 - val_loss: 0.0915 - val_acc: 0.9641\n",
      "Epoch 68/150\n",
      "160/160 [==============================] - ETA: 0s - loss: 0.1059 - acc: 0.9723\n",
      "Epoch 00068: val_acc did not improve from 0.98438\n",
      "160/160 [==============================] - 6s 37ms/step - loss: 0.1059 - acc: 0.9723 - val_loss: 0.0543 - val_acc: 0.9781\n",
      "Epoch 69/150\n",
      "159/160 [============================>.] - ETA: 0s - loss: 0.1297 - acc: 0.9623\n",
      "Epoch 00069: val_acc did not improve from 0.98438\n",
      "160/160 [==============================] - 6s 38ms/step - loss: 0.1290 - acc: 0.9625 - val_loss: 0.0634 - val_acc: 0.9719\n",
      "Epoch 70/150\n",
      "160/160 [==============================] - ETA: 0s - loss: 0.1264 - acc: 0.9645\n",
      "Epoch 00070: val_acc did not improve from 0.98438\n",
      "160/160 [==============================] - 6s 38ms/step - loss: 0.1264 - acc: 0.9645 - val_loss: 0.0466 - val_acc: 0.9781\n",
      "Epoch 71/150\n",
      "159/160 [============================>.] - ETA: 0s - loss: 0.1150 - acc: 0.9689\n",
      "Epoch 00071: val_acc did not improve from 0.98438\n",
      "160/160 [==============================] - 6s 38ms/step - loss: 0.1144 - acc: 0.9691 - val_loss: 0.0444 - val_acc: 0.9797\n",
      "Epoch 72/150\n",
      "160/160 [==============================] - ETA: 0s - loss: 0.1232 - acc: 0.9668\n",
      "Epoch 00072: val_acc did not improve from 0.98438\n",
      "160/160 [==============================] - 6s 39ms/step - loss: 0.1232 - acc: 0.9668 - val_loss: 0.0467 - val_acc: 0.9812\n",
      "Epoch 73/150\n",
      "159/160 [============================>.] - ETA: 0s - loss: 0.1211 - acc: 0.9737\n",
      "Epoch 00073: val_acc did not improve from 0.98438\n",
      "160/160 [==============================] - 7s 41ms/step - loss: 0.1205 - acc: 0.9738 - val_loss: 0.0550 - val_acc: 0.9766\n",
      "Epoch 74/150\n",
      "160/160 [==============================] - ETA: 0s - loss: 0.1173 - acc: 0.9668\n",
      "Epoch 00074: val_acc did not improve from 0.98438\n",
      "160/160 [==============================] - 6s 38ms/step - loss: 0.1173 - acc: 0.9668 - val_loss: 0.0351 - val_acc: 0.9812\n",
      "Epoch 75/150\n",
      "160/160 [==============================] - ETA: 0s - loss: 0.1179 - acc: 0.9699\n",
      "Epoch 00075: val_acc did not improve from 0.98438\n",
      "160/160 [==============================] - 6s 37ms/step - loss: 0.1179 - acc: 0.9699 - val_loss: 0.0680 - val_acc: 0.9688\n",
      "Epoch 76/150\n",
      "159/160 [============================>.] - ETA: 0s - loss: 0.1294 - acc: 0.9686\n",
      "Epoch 00076: val_acc did not improve from 0.98438\n",
      "160/160 [==============================] - 6s 36ms/step - loss: 0.1286 - acc: 0.9688 - val_loss: 0.0665 - val_acc: 0.9688\n",
      "Epoch 77/150\n",
      "160/160 [==============================] - ETA: 0s - loss: 0.1059 - acc: 0.9707\n",
      "Epoch 00077: val_acc did not improve from 0.98438\n",
      "160/160 [==============================] - 6s 36ms/step - loss: 0.1059 - acc: 0.9707 - val_loss: 0.0421 - val_acc: 0.9844\n",
      "Epoch 78/150\n",
      "159/160 [============================>.] - ETA: 0s - loss: 0.1237 - acc: 0.9650\n",
      "Epoch 00078: val_acc did not improve from 0.98438\n",
      "160/160 [==============================] - 6s 37ms/step - loss: 0.1266 - acc: 0.9641 - val_loss: 0.0498 - val_acc: 0.9828\n",
      "Epoch 79/150\n",
      "159/160 [============================>.] - ETA: 0s - loss: 0.1161 - acc: 0.9697\n",
      "Epoch 00079: val_acc did not improve from 0.98438\n",
      "160/160 [==============================] - 6s 36ms/step - loss: 0.1154 - acc: 0.9699 - val_loss: 0.0486 - val_acc: 0.9812\n",
      "Epoch 80/150\n",
      "159/160 [============================>.] - ETA: 0s - loss: 0.1013 - acc: 0.9717\n",
      "Epoch 00080: val_acc did not improve from 0.98438\n",
      "160/160 [==============================] - 6s 36ms/step - loss: 0.1012 - acc: 0.9719 - val_loss: 0.0460 - val_acc: 0.9797\n",
      "Epoch 81/150\n",
      "159/160 [============================>.] - ETA: 0s - loss: 0.1123 - acc: 0.9693\n",
      "Epoch 00081: val_acc improved from 0.98438 to 0.98750, saving model to model_weights.h5\n",
      "160/160 [==============================] - 6s 36ms/step - loss: 0.1117 - acc: 0.9695 - val_loss: 0.0351 - val_acc: 0.9875\n",
      "Epoch 82/150\n",
      "159/160 [============================>.] - ETA: 0s - loss: 0.1131 - acc: 0.9697\n",
      "Epoch 00082: val_acc did not improve from 0.98750\n",
      "160/160 [==============================] - 6s 37ms/step - loss: 0.1124 - acc: 0.9699 - val_loss: 0.0466 - val_acc: 0.9812\n",
      "Epoch 83/150\n",
      "160/160 [==============================] - ETA: 0s - loss: 0.0925 - acc: 0.9750\n",
      "Epoch 00083: val_acc did not improve from 0.98750\n",
      "160/160 [==============================] - 6s 37ms/step - loss: 0.0925 - acc: 0.9750 - val_loss: 0.0400 - val_acc: 0.9797\n",
      "Epoch 84/150\n",
      "159/160 [============================>.] - ETA: 0s - loss: 0.1189 - acc: 0.9682\n",
      "Epoch 00084: val_acc did not improve from 0.98750\n",
      "160/160 [==============================] - 6s 39ms/step - loss: 0.1182 - acc: 0.9684 - val_loss: 0.0311 - val_acc: 0.9844\n",
      "Epoch 85/150\n",
      "160/160 [==============================] - ETA: 0s - loss: 0.1077 - acc: 0.9730\n",
      "Epoch 00085: val_acc did not improve from 0.98750\n",
      "160/160 [==============================] - 6s 36ms/step - loss: 0.1077 - acc: 0.9730 - val_loss: 0.0485 - val_acc: 0.9844\n",
      "Epoch 86/150\n",
      "160/160 [==============================] - ETA: 0s - loss: 0.1132 - acc: 0.9707\n",
      "Epoch 00086: val_acc did not improve from 0.98750\n",
      "160/160 [==============================] - 6s 36ms/step - loss: 0.1132 - acc: 0.9707 - val_loss: 0.0397 - val_acc: 0.9812\n",
      "Epoch 87/150\n",
      "160/160 [==============================] - ETA: 0s - loss: 0.0975 - acc: 0.9766\n",
      "Epoch 00087: val_acc did not improve from 0.98750\n",
      "160/160 [==============================] - 6s 36ms/step - loss: 0.0975 - acc: 0.9766 - val_loss: 0.0579 - val_acc: 0.9734\n",
      "Epoch 88/150\n",
      "159/160 [============================>.] - ETA: 0s - loss: 0.0982 - acc: 0.9733\n",
      "Epoch 00088: val_acc did not improve from 0.98750\n",
      "160/160 [==============================] - 6s 36ms/step - loss: 0.1044 - acc: 0.9727 - val_loss: 0.0478 - val_acc: 0.9812\n"
     ]
    },
    {
     "name": "stdout",
     "output_type": "stream",
     "text": [
      "Epoch 89/150\n",
      "159/160 [============================>.] - ETA: 0s - loss: 0.1024 - acc: 0.9744\n",
      "Epoch 00089: val_acc did not improve from 0.98750\n",
      "160/160 [==============================] - 6s 36ms/step - loss: 0.1019 - acc: 0.9746 - val_loss: 0.0377 - val_acc: 0.9828\n",
      "Epoch 90/150\n",
      "160/160 [==============================] - ETA: 0s - loss: 0.0860 - acc: 0.9758\n",
      "Epoch 00090: val_acc improved from 0.98750 to 0.99219, saving model to model_weights.h5\n",
      "160/160 [==============================] - 6s 36ms/step - loss: 0.0860 - acc: 0.9758 - val_loss: 0.0220 - val_acc: 0.9922\n",
      "Epoch 91/150\n",
      "159/160 [============================>.] - ETA: 0s - loss: 0.0967 - acc: 0.9737\n",
      "Epoch 00091: val_acc did not improve from 0.99219\n",
      "160/160 [==============================] - 6s 37ms/step - loss: 0.0981 - acc: 0.9730 - val_loss: 0.0336 - val_acc: 0.9859\n",
      "Epoch 92/150\n",
      "159/160 [============================>.] - ETA: 0s - loss: 0.1028 - acc: 0.9748\n",
      "Epoch 00092: val_acc did not improve from 0.99219\n",
      "160/160 [==============================] - 6s 36ms/step - loss: 0.1023 - acc: 0.9750 - val_loss: 0.0780 - val_acc: 0.9688\n",
      "Epoch 93/150\n",
      "160/160 [==============================] - ETA: 0s - loss: 0.0933 - acc: 0.9727\n",
      "Epoch 00093: val_acc did not improve from 0.99219\n",
      "160/160 [==============================] - 6s 36ms/step - loss: 0.0933 - acc: 0.9727 - val_loss: 0.0521 - val_acc: 0.9812\n",
      "Epoch 94/150\n",
      "160/160 [==============================] - ETA: 0s - loss: 0.0945 - acc: 0.9738\n",
      "Epoch 00094: val_acc did not improve from 0.99219\n",
      "160/160 [==============================] - 6s 39ms/step - loss: 0.0945 - acc: 0.9738 - val_loss: 0.0268 - val_acc: 0.9891\n",
      "Epoch 95/150\n",
      "160/160 [==============================] - ETA: 0s - loss: 0.0996 - acc: 0.9766\n",
      "Epoch 00095: val_acc did not improve from 0.99219\n",
      "160/160 [==============================] - 8s 50ms/step - loss: 0.0996 - acc: 0.9766 - val_loss: 0.0529 - val_acc: 0.9781\n",
      "Epoch 96/150\n",
      "159/160 [============================>.] - ETA: 0s - loss: 0.1039 - acc: 0.9729- ETA: 0s - loss: 0.1050 - acc: 0\n",
      "Epoch 00096: val_acc did not improve from 0.99219\n",
      "160/160 [==============================] - 8s 51ms/step - loss: 0.1034 - acc: 0.9730 - val_loss: 0.0618 - val_acc: 0.9750\n",
      "Epoch 97/150\n",
      "159/160 [============================>.] - ETA: 0s - loss: 0.0916 - acc: 0.9776\n",
      "Epoch 00097: val_acc did not improve from 0.99219\n",
      "160/160 [==============================] - 9s 54ms/step - loss: 0.0916 - acc: 0.9773 - val_loss: 0.0263 - val_acc: 0.9844\n",
      "Epoch 98/150\n",
      "160/160 [==============================] - ETA: 0s - loss: 0.0939 - acc: 0.9738\n",
      "Epoch 00098: val_acc did not improve from 0.99219\n",
      "160/160 [==============================] - 8s 53ms/step - loss: 0.0939 - acc: 0.9738 - val_loss: 0.0191 - val_acc: 0.9922\n",
      "Epoch 99/150\n",
      "159/160 [============================>.] - ETA: 0s - loss: 0.0855 - acc: 0.9768\n",
      "Epoch 00099: val_acc did not improve from 0.99219\n",
      "160/160 [==============================] - 6s 40ms/step - loss: 0.0857 - acc: 0.9766 - val_loss: 0.0352 - val_acc: 0.9828\n",
      "Epoch 100/150\n",
      "159/160 [============================>.] - ETA: 0s - loss: 0.0869 - acc: 0.9764\n",
      "Epoch 00100: val_acc did not improve from 0.99219\n",
      "160/160 [==============================] - 8s 47ms/step - loss: 0.0865 - acc: 0.9766 - val_loss: 0.0328 - val_acc: 0.9859\n",
      "Epoch 101/150\n",
      "159/160 [============================>.] - ETA: 0s - loss: 0.0977 - acc: 0.9744\n",
      "Epoch 00101: val_acc did not improve from 0.99219\n",
      "160/160 [==============================] - 8s 52ms/step - loss: 0.0986 - acc: 0.9742 - val_loss: 0.0302 - val_acc: 0.9875\n",
      "Epoch 102/150\n",
      "160/160 [==============================] - ETA: 0s - loss: 0.0815 - acc: 0.9754\n",
      "Epoch 00102: val_acc did not improve from 0.99219\n",
      "160/160 [==============================] - 8s 48ms/step - loss: 0.0815 - acc: 0.9754 - val_loss: 0.0419 - val_acc: 0.9875\n",
      "Epoch 103/150\n",
      "159/160 [============================>.] - ETA: 0s - loss: 0.0851 - acc: 0.9784\n",
      "Epoch 00103: val_acc did not improve from 0.99219\n",
      "160/160 [==============================] - 7s 45ms/step - loss: 0.0848 - acc: 0.9785 - val_loss: 0.0436 - val_acc: 0.9828\n",
      "Epoch 104/150\n",
      "159/160 [============================>.] - ETA: 0s - loss: 0.0808 - acc: 0.9784\n",
      "Epoch 00104: val_acc did not improve from 0.99219\n",
      "160/160 [==============================] - 7s 43ms/step - loss: 0.0803 - acc: 0.9785 - val_loss: 0.0225 - val_acc: 0.9922\n",
      "Epoch 105/150\n",
      "159/160 [============================>.] - ETA: 0s - loss: 0.0895 - acc: 0.9776\n",
      "Epoch 00105: val_acc did not improve from 0.99219\n",
      "160/160 [==============================] - 7s 41ms/step - loss: 0.0894 - acc: 0.9773 - val_loss: 0.0429 - val_acc: 0.9859\n",
      "Epoch 106/150\n",
      "159/160 [============================>.] - ETA: 0s - loss: 0.0782 - acc: 0.9796\n",
      "Epoch 00106: val_acc did not improve from 0.99219\n",
      "160/160 [==============================] - 7s 41ms/step - loss: 0.0777 - acc: 0.9797 - val_loss: 0.0352 - val_acc: 0.9844\n",
      "Epoch 107/150\n",
      "160/160 [==============================] - ETA: 0s - loss: 0.0833 - acc: 0.9789\n",
      "Epoch 00107: val_acc did not improve from 0.99219\n",
      "160/160 [==============================] - 7s 42ms/step - loss: 0.0833 - acc: 0.9789 - val_loss: 0.0443 - val_acc: 0.9812\n",
      "Epoch 108/150\n",
      "160/160 [==============================] - ETA: 0s - loss: 0.0830 - acc: 0.9773\n",
      "Epoch 00108: val_acc did not improve from 0.99219\n",
      "160/160 [==============================] - 7s 44ms/step - loss: 0.0830 - acc: 0.9773 - val_loss: 0.0391 - val_acc: 0.9844\n",
      "Epoch 109/150\n",
      "159/160 [============================>.] - ETA: 0s - loss: 0.0746 - acc: 0.9823\n",
      "Epoch 00109: val_acc did not improve from 0.99219\n",
      "160/160 [==============================] - 7s 43ms/step - loss: 0.0743 - acc: 0.9824 - val_loss: 0.0516 - val_acc: 0.9766\n",
      "Epoch 110/150\n",
      "160/160 [==============================] - ETA: 0s - loss: 0.0781 - acc: 0.9801\n",
      "Epoch 00110: val_acc did not improve from 0.99219\n",
      "160/160 [==============================] - 7s 42ms/step - loss: 0.0781 - acc: 0.9801 - val_loss: 0.0274 - val_acc: 0.9875\n",
      "Epoch 111/150\n",
      "159/160 [============================>.] - ETA: 0s - loss: 0.0733 - acc: 0.9803\n",
      "Epoch 00111: val_acc did not improve from 0.99219\n",
      "160/160 [==============================] - 7s 42ms/step - loss: 0.0731 - acc: 0.9805 - val_loss: 0.0386 - val_acc: 0.9875\n",
      "Epoch 112/150\n",
      "159/160 [============================>.] - ETA: 0s - loss: 0.1028 - acc: 0.9721\n",
      "Epoch 00112: val_acc did not improve from 0.99219\n",
      "160/160 [==============================] - 7s 43ms/step - loss: 0.1022 - acc: 0.9723 - val_loss: 0.0529 - val_acc: 0.9828\n",
      "Epoch 113/150\n",
      "160/160 [==============================] - ETA: 0s - loss: 0.0987 - acc: 0.9730\n",
      "Epoch 00113: val_acc did not improve from 0.99219\n",
      "160/160 [==============================] - 7s 43ms/step - loss: 0.0987 - acc: 0.9730 - val_loss: 0.0327 - val_acc: 0.9875\n",
      "Epoch 114/150\n",
      "159/160 [============================>.] - ETA: 0s - loss: 0.0748 - acc: 0.9788\n",
      "Epoch 00114: val_acc did not improve from 0.99219\n",
      "160/160 [==============================] - 7s 47ms/step - loss: 0.0752 - acc: 0.9785 - val_loss: 0.0336 - val_acc: 0.9859\n",
      "Epoch 115/150\n",
      "159/160 [============================>.] - ETA: 0s - loss: 0.0813 - acc: 0.9827\n",
      "Epoch 00115: val_acc did not improve from 0.99219\n",
      "160/160 [==============================] - 7s 42ms/step - loss: 0.0808 - acc: 0.9828 - val_loss: 0.0283 - val_acc: 0.9875\n",
      "Epoch 116/150\n",
      "159/160 [============================>.] - ETA: 0s - loss: 0.0712 - acc: 0.9807\n",
      "Epoch 00116: val_acc did not improve from 0.99219\n",
      "160/160 [==============================] - 7s 42ms/step - loss: 0.0709 - acc: 0.9809 - val_loss: 0.0416 - val_acc: 0.9844\n",
      "Epoch 117/150\n",
      "160/160 [==============================] - ETA: 0s - loss: 0.0975 - acc: 0.9734\n",
      "Epoch 00117: val_acc did not improve from 0.99219\n",
      "160/160 [==============================] - 7s 42ms/step - loss: 0.0975 - acc: 0.9734 - val_loss: 0.0280 - val_acc: 0.9891\n",
      "Epoch 118/150\n",
      "159/160 [============================>.] - ETA: 0s - loss: 0.0753 - acc: 0.9807\n",
      "Epoch 00118: val_acc did not improve from 0.99219\n",
      "160/160 [==============================] - 7s 43ms/step - loss: 0.0751 - acc: 0.9809 - val_loss: 0.0476 - val_acc: 0.9828\n",
      "Epoch 119/150\n",
      "160/160 [==============================] - ETA: 0s - loss: 0.0620 - acc: 0.9809\n",
      "Epoch 00119: val_acc did not improve from 0.99219\n",
      "160/160 [==============================] - 7s 42ms/step - loss: 0.0620 - acc: 0.9809 - val_loss: 0.0254 - val_acc: 0.9906\n"
     ]
    },
    {
     "name": "stdout",
     "output_type": "stream",
     "text": [
      "Epoch 120/150\n",
      "159/160 [============================>.] - ETA: 0s - loss: 0.0874 - acc: 0.9768\n",
      "Epoch 00120: val_acc did not improve from 0.99219\n",
      "160/160 [==============================] - 7s 43ms/step - loss: 0.0869 - acc: 0.9770 - val_loss: 0.0466 - val_acc: 0.9828\n",
      "Epoch 121/150\n",
      "160/160 [==============================] - ETA: 0s - loss: 0.0770 - acc: 0.9820\n",
      "Epoch 00121: val_acc did not improve from 0.99219\n",
      "160/160 [==============================] - 7s 41ms/step - loss: 0.0770 - acc: 0.9820 - val_loss: 0.0469 - val_acc: 0.9828\n",
      "Epoch 122/150\n",
      "159/160 [============================>.] - ETA: 0s - loss: 0.0696 - acc: 0.9803\n",
      "Epoch 00122: val_acc did not improve from 0.99219\n",
      "160/160 [==============================] - 7s 43ms/step - loss: 0.0713 - acc: 0.9801 - val_loss: 0.0248 - val_acc: 0.9906\n",
      "Epoch 123/150\n",
      "160/160 [==============================] - ETA: 0s - loss: 0.0811 - acc: 0.9785\n",
      "Epoch 00123: val_acc did not improve from 0.99219\n",
      "160/160 [==============================] - 7s 41ms/step - loss: 0.0811 - acc: 0.9785 - val_loss: 0.0370 - val_acc: 0.9844\n",
      "Epoch 124/150\n",
      "160/160 [==============================] - ETA: 0s - loss: 0.0830 - acc: 0.9785\n",
      "Epoch 00124: val_acc did not improve from 0.99219\n",
      "160/160 [==============================] - 7s 41ms/step - loss: 0.0830 - acc: 0.9785 - val_loss: 0.0243 - val_acc: 0.9875\n",
      "Epoch 125/150\n",
      "159/160 [============================>.] - ETA: 0s - loss: 0.0712 - acc: 0.9823\n",
      "Epoch 00125: val_acc did not improve from 0.99219\n",
      "160/160 [==============================] - 6s 41ms/step - loss: 0.0721 - acc: 0.9820 - val_loss: 0.0255 - val_acc: 0.9891\n",
      "Epoch 126/150\n",
      "159/160 [============================>.] - ETA: 0s - loss: 0.0805 - acc: 0.9796\n",
      "Epoch 00126: val_acc improved from 0.99219 to 0.99375, saving model to model_weights.h5\n",
      "160/160 [==============================] - 7s 41ms/step - loss: 0.0803 - acc: 0.9797 - val_loss: 0.0203 - val_acc: 0.9937\n",
      "Epoch 127/150\n",
      "160/160 [==============================] - ETA: 0s - loss: 0.0624 - acc: 0.9832\n",
      "Epoch 00127: val_acc did not improve from 0.99375\n",
      "160/160 [==============================] - 7s 44ms/step - loss: 0.0624 - acc: 0.9832 - val_loss: 0.0402 - val_acc: 0.9844\n",
      "Epoch 128/150\n",
      "160/160 [==============================] - ETA: 0s - loss: 0.0644 - acc: 0.9824\n",
      "Epoch 00128: val_acc did not improve from 0.99375\n",
      "160/160 [==============================] - 7s 41ms/step - loss: 0.0644 - acc: 0.9824 - val_loss: 0.0431 - val_acc: 0.9844\n",
      "Epoch 129/150\n",
      "159/160 [============================>.] - ETA: 0s - loss: 0.0989 - acc: 0.9737\n",
      "Epoch 00129: val_acc did not improve from 0.99375\n",
      "160/160 [==============================] - 7s 41ms/step - loss: 0.0983 - acc: 0.9738 - val_loss: 0.0498 - val_acc: 0.9750\n",
      "Epoch 130/150\n",
      "159/160 [============================>.] - ETA: 0s - loss: 0.0994 - acc: 0.9733\n",
      "Epoch 00130: val_acc did not improve from 0.99375\n",
      "160/160 [==============================] - 7s 41ms/step - loss: 0.0989 - acc: 0.9734 - val_loss: 0.0366 - val_acc: 0.9859\n",
      "Epoch 131/150\n",
      "159/160 [============================>.] - ETA: 0s - loss: 0.0713 - acc: 0.9839\n",
      "Epoch 00131: val_acc did not improve from 0.99375\n",
      "160/160 [==============================] - 7s 41ms/step - loss: 0.0714 - acc: 0.9840 - val_loss: 0.0224 - val_acc: 0.9906\n",
      "Epoch 132/150\n",
      "160/160 [==============================] - ETA: 0s - loss: 0.0547 - acc: 0.9879\n",
      "Epoch 00132: val_acc did not improve from 0.99375\n",
      "160/160 [==============================] - 7s 43ms/step - loss: 0.0547 - acc: 0.9879 - val_loss: 0.0266 - val_acc: 0.9891\n",
      "Epoch 133/150\n",
      "160/160 [==============================] - ETA: 0s - loss: 0.0634 - acc: 0.9859\n",
      "Epoch 00133: val_acc did not improve from 0.99375\n",
      "160/160 [==============================] - 7s 41ms/step - loss: 0.0634 - acc: 0.9859 - val_loss: 0.0367 - val_acc: 0.9828\n",
      "Epoch 134/150\n",
      "159/160 [============================>.] - ETA: 0s - loss: 0.0757 - acc: 0.9831\n",
      "Epoch 00134: val_acc did not improve from 0.99375\n",
      "160/160 [==============================] - 7s 41ms/step - loss: 0.0761 - acc: 0.9824 - val_loss: 0.0327 - val_acc: 0.9875\n",
      "Epoch 135/150\n",
      "160/160 [==============================] - ETA: 0s - loss: 0.0707 - acc: 0.9805\n",
      "Epoch 00135: val_acc did not improve from 0.99375\n",
      "160/160 [==============================] - 7s 42ms/step - loss: 0.0707 - acc: 0.9805 - val_loss: 0.0520 - val_acc: 0.9797\n",
      "Epoch 136/150\n",
      "159/160 [============================>.] - ETA: 0s - loss: 0.0529 - acc: 0.9866\n",
      "Epoch 00136: val_acc did not improve from 0.99375\n",
      "160/160 [==============================] - 8s 48ms/step - loss: 0.0528 - acc: 0.9867 - val_loss: 0.0372 - val_acc: 0.9859\n",
      "Epoch 137/150\n",
      "160/160 [==============================] - ETA: 0s - loss: 0.0639 - acc: 0.9816- ETA: 0s - loss: 0.0627 - acc: 0.981\n",
      "Epoch 00137: val_acc did not improve from 0.99375\n",
      "160/160 [==============================] - 7s 44ms/step - loss: 0.0639 - acc: 0.9816 - val_loss: 0.0287 - val_acc: 0.9891\n",
      "Epoch 138/150\n",
      "159/160 [============================>.] - ETA: 0s - loss: 0.0709 - acc: 0.9807\n",
      "Epoch 00138: val_acc did not improve from 0.99375\n",
      "160/160 [==============================] - 7s 41ms/step - loss: 0.0705 - acc: 0.9809 - val_loss: 0.0288 - val_acc: 0.9875\n",
      "Epoch 139/150\n",
      "160/160 [==============================] - ETA: 0s - loss: 0.0619 - acc: 0.9824\n",
      "Epoch 00139: val_acc did not improve from 0.99375\n",
      "160/160 [==============================] - 7s 42ms/step - loss: 0.0619 - acc: 0.9824 - val_loss: 0.0341 - val_acc: 0.9875\n",
      "Epoch 140/150\n",
      "159/160 [============================>.] - ETA: 0s - loss: 0.0720 - acc: 0.9811\n",
      "Epoch 00140: val_acc did not improve from 0.99375\n",
      "160/160 [==============================] - 7s 41ms/step - loss: 0.0716 - acc: 0.9812 - val_loss: 0.0338 - val_acc: 0.9891\n",
      "Epoch 141/150\n",
      "159/160 [============================>.] - ETA: 0s - loss: 0.0785 - acc: 0.9815\n",
      "Epoch 00141: val_acc did not improve from 0.99375\n",
      "160/160 [==============================] - 7s 41ms/step - loss: 0.0783 - acc: 0.9816 - val_loss: 0.0308 - val_acc: 0.9844\n",
      "Epoch 142/150\n",
      "159/160 [============================>.] - ETA: 0s - loss: 0.0673 - acc: 0.9823\n",
      "Epoch 00142: val_acc did not improve from 0.99375\n",
      "160/160 [==============================] - 7s 43ms/step - loss: 0.0669 - acc: 0.9824 - val_loss: 0.0250 - val_acc: 0.9906\n",
      "Epoch 143/150\n",
      "160/160 [==============================] - ETA: 0s - loss: 0.0918 - acc: 0.9773\n",
      "Epoch 00143: val_acc did not improve from 0.99375\n",
      "160/160 [==============================] - 7s 41ms/step - loss: 0.0918 - acc: 0.9773 - val_loss: 0.0214 - val_acc: 0.9906\n",
      "Epoch 144/150\n",
      "159/160 [============================>.] - ETA: 0s - loss: 0.0560 - acc: 0.9855\n",
      "Epoch 00144: val_acc did not improve from 0.99375\n",
      "160/160 [==============================] - 7s 42ms/step - loss: 0.0573 - acc: 0.9852 - val_loss: 0.0225 - val_acc: 0.9906\n",
      "Epoch 145/150\n",
      "160/160 [==============================] - ETA: 0s - loss: 0.0662 - acc: 0.9844\n",
      "Epoch 00145: val_acc did not improve from 0.99375\n",
      "160/160 [==============================] - 7s 41ms/step - loss: 0.0662 - acc: 0.9844 - val_loss: 0.0180 - val_acc: 0.9922\n",
      "Epoch 146/150\n",
      "160/160 [==============================] - ETA: 0s - loss: 0.0698 - acc: 0.9836\n",
      "Epoch 00146: val_acc did not improve from 0.99375\n",
      "160/160 [==============================] - 7s 41ms/step - loss: 0.0698 - acc: 0.9836 - val_loss: 0.0362 - val_acc: 0.9875\n",
      "Epoch 147/150\n",
      "160/160 [==============================] - ETA: 0s - loss: 0.0780 - acc: 0.9816\n",
      "Epoch 00147: val_acc did not improve from 0.99375\n",
      "160/160 [==============================] - 7s 42ms/step - loss: 0.0780 - acc: 0.9816 - val_loss: 0.0213 - val_acc: 0.9937\n",
      "Epoch 148/150\n",
      "160/160 [==============================] - ETA: 0s - loss: 0.0600 - acc: 0.9859\n",
      "Epoch 00148: val_acc did not improve from 0.99375\n",
      "160/160 [==============================] - 7s 42ms/step - loss: 0.0600 - acc: 0.9859 - val_loss: 0.0378 - val_acc: 0.9828\n",
      "Epoch 149/150\n",
      "160/160 [==============================] - ETA: 0s - loss: 0.0612 - acc: 0.9836\n",
      "Epoch 00149: val_acc did not improve from 0.99375\n",
      "160/160 [==============================] - 7s 42ms/step - loss: 0.0612 - acc: 0.9836 - val_loss: 0.0417 - val_acc: 0.9844\n",
      "Epoch 150/150\n",
      "159/160 [============================>.] - ETA: 0s - loss: 0.0644 - acc: 0.9815\n",
      "Epoch 00150: val_acc did not improve from 0.99375\n",
      "160/160 [==============================] - 7s 42ms/step - loss: 0.0642 - acc: 0.9816 - val_loss: 0.0206 - val_acc: 0.9922\n"
     ]
    }
   ],
   "source": [
    "epochs = 150\n",
    "\n",
    "history = model.fit_generator(train_generator, \n",
    "                              steps_per_epoch=train_generator.n//batch_size,\n",
    "                              epochs=epochs,\n",
    "                              validation_data=val_generator,\n",
    "                              validation_steps=val_generator.n//batch_size,\n",
    "                              callbacks=[checkpoint, logs],\n",
    "                              class_weight=classWeight,\n",
    "                              verbose=1)\n"
   ]
  },
  {
   "cell_type": "code",
   "execution_count": 30,
   "metadata": {},
   "outputs": [],
   "source": [
    "def show_final_history(history):\n",
    "\n",
    "    plt.style.use(\"ggplot\")\n",
    "    fig, ax = plt.subplots(1,2,figsize=(15,5))\n",
    "    ax[0].set_title('Loss')\n",
    "    ax[1].set_title('Accuracy')\n",
    "    ax[0].plot(history.history['loss'],label='Train Loss')\n",
    "    ax[0].plot(history.history['val_loss'],label='Validation Loss')\n",
    "    ax[1].plot(history.history['acc'],label='Train Accuracy')\n",
    "    ax[1].plot(history.history['val_acc'],label='Validation Accuracy')\n",
    "\n",
    "    ax[0].legend(loc='upper right')\n",
    "    ax[1].legend(loc='lower right')\n",
    "    plt.show();\n",
    "    pass\n"
   ]
  },
  {
   "cell_type": "code",
   "execution_count": 31,
   "metadata": {},
   "outputs": [
    {
     "data": {
      "image/png": "[encoded data removed]",
      "text/plain": [
       "<Figure size 1080x360 with 2 Axes>"
      ]
     },
     "metadata": {},
     "output_type": "display_data"
    },
    {
     "name": "stdout",
     "output_type": "stream",
     "text": [
      "25/25 [==============================] - 0s 10ms/step - loss: 0.0256 - acc: 0.9887\n",
      "Final test accuracy: 0.9887499809265137\n"
     ]
    }
   ],
   "source": [
    "show_final_history(history)\n",
    "\n",
    "score, acc = model.evaluate(test_images, test_labels,)\n",
    "print(f\"Final test accuracy: {acc}\")"
   ]
  },
  {
   "cell_type": "code",
   "execution_count": 22,
   "metadata": {},
   "outputs": [
    {
     "data": {
      "image/png": "[encoded data removed]",
      "text/plain": [
       "<Figure size 432x288 with 1 Axes>"
      ]
     },
     "metadata": {},
     "output_type": "display_data"
    },
    {
     "data": {
      "image/png": "[encoded data removed]",
      "text/plain": [
       "<Figure size 432x288 with 1 Axes>"
      ]
     },
     "metadata": {},
     "output_type": "display_data"
    },
    {
     "data": {
      "image/png": "[encoded data removed]",
      "text/plain": [
       "<Figure size 432x288 with 1 Axes>"
      ]
     },
     "metadata": {},
     "output_type": "display_data"
    },
    {
     "data": {
      "image/png": "[encoded data removed]",
      "text/plain": [
       "<Figure size 432x288 with 1 Axes>"
      ]
     },
     "metadata": {},
     "output_type": "display_data"
    },
    {
     "data": {
      "image/png": "[encoded data removed]",
      "text/plain": [
       "<Figure size 432x288 with 1 Axes>"
      ]
     },
     "metadata": {},
     "output_type": "display_data"
    },
    {
     "data": {
      "image/png": "[encoded data removed]",
      "text/plain": [
       "<Figure size 432x288 with 1 Axes>"
      ]
     },
     "metadata": {},
     "output_type": "display_data"
    }
   ],
   "source": [
    "test_actual = np.argmax(test_labels,axis=1)\n",
    "test_pred = model.predict(test_images)\n",
    "test_pred = np.argmax(test_pred,axis=1)\n",
    "test_pred.shape\n",
    "rnd_idx = random.sample(range(0,400),10)\n",
    "class_labels = {i:class_name for (class_name,i) in class_name_labels.items()}\n",
    "class_labels\n",
    "\n",
    "# fig, ax = plt.subplots(2,5,figsize=(5,5))\n",
    "\n",
    "for i,idx in enumerate(rnd_idx):\n",
    "\n",
    "    plt.imshow(test_images[idx])\n",
    "    plt.title(\"Actual: {}\\nPredicted: {}\".format(class_labels[test_actual[idx]],class_labels[test_pred[idx]]))\n",
    "    plt.grid(None)\n",
    "    plt.show()\n",
    "    pass\n"
   ]
  },
  {
   "cell_type": "markdown",
   "metadata": {
    "pycharm": {
     "name": "#%% md\n"
    }
   },
   "source": [
    "def plot_confusion_matrix(cm,classes,title='Confusion Matrix',cmap=plt.cm.Blues):\n",
    "\n",
    "#     np.seterr(divide='ignore',invalid='ignore')\n",
    "    cm = cm.astype('float')/cm.sum(axis=1)[:,np.newaxis]\n",
    "    plt.figure(figsize=(10,10))\n",
    "    plt.imshow(cm,interpolation='nearest',cmap=cmap)\n",
    "    plt.title(title)\n",
    "    plt.colorbar()\n",
    "    tick_marks = np.arange(len(classes))\n",
    "    plt.xticks(tick_marks, classes,rotation=45)\n",
    "    plt.yticks(tick_marks, classes)\n",
    "\n",
    "    fmt = '.2f'\n",
    "    thresh = cm.max()/2.\n",
    "    for i,j in itertools.product(range(cm.shape[0]),range(cm.shape[1])):\n",
    "        plt.text(j,i,format(cm[i,j],fmt),\n",
    "                horizontalalignment=\"center\",\n",
    "                color=\"white\" if cm[i,j] > thresh else \"black\")\n",
    "        pass\n",
    "\n",
    "    plt.ylabel('True Label')\n",
    "    plt.xlabel('Predicted Label')\n",
    "    pass\n",
    "\n",
    "test_actual = np.argmax(test_labels,axis=1)\n",
    "\n",
    "cnf_mat_test = confusion_matrix(test_actual, test_pred)\n",
    "np.set_printoptions(precision=2)\n",
    "\n",
    "plt.figure()\n",
    "plot_confusion_matrix(cnf_mat_test,classes=class_names)\n",
    "plt.grid(None)\n",
    "plt.show()"
   ]
  }
 ],
 "metadata": {
  "kernelspec": {
   "display_name": "Python 3",
   "language": "python",
   "name": "python3"
  },
  "language_info": {
   "codemirror_mode": {
    "name": "ipython",
    "version": 3
   },
   "file_extension": ".py",
   "mimetype": "text/x-python",
   "name": "python",
   "nbconvert_exporter": "python",
   "pygments_lexer": "ipython3",
   "version": "3.8.0"
  }
 },
 "nbformat": 4,
 "nbformat_minor": 1
}